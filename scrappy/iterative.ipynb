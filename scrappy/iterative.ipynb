{
 "cells": [
  {
   "cell_type": "code",
   "execution_count": 74,
   "metadata": {},
   "outputs": [],
   "source": [
    "import marvin\n",
    "\n",
    "from typing import List, Tuple\n",
    "from pydantic import BaseModel\n",
    "import os\n",
    "from marvin.beta.assistants import Assistant\n",
    "from marvin.beta.assistants import Thread\n",
    "from marvin.beta.assistants.formatting import pprint_messages\n",
    "from openai import OpenAI\n",
    "from dotenv import load_dotenv\n",
    "\n",
    "load_dotenv()"
   ]
  },
  {
   "cell_type": "code",
   "execution_count": 13,
   "metadata": {},
   "outputs": [],
   "source": [
    "marvin.settings.openai.api_key = os.environ[\"OPENAI_API_KEY\"]\n",
    "PERPLEXITY_API_KEY = os[\"PERPLEXITY_API_KEY\"]\n",
    "\n",
    "client = OpenAI()"
   ]
  },
  {
   "cell_type": "code",
   "execution_count": 53,
   "metadata": {},
   "outputs": [],
   "source": [
    "ai = Assistant(name=\"Founder\", \n",
    "            instructions=\"You are entrepneur exploring ideas to assess their desirability, viability and feasability.\")"
   ]
  },
  {
   "cell_type": "code",
   "execution_count": 69,
   "metadata": {},
   "outputs": [],
   "source": [
    "thread = Thread()"
   ]
  },
  {
   "cell_type": "code",
   "execution_count": 70,
   "metadata": {},
   "outputs": [
    {
     "data": {
      "text/plain": [
       "Message(id='msg_6oRNSF21NQla7qO0dD4EiQIe', assistant_id=None, attachments=[], completed_at=None, content=[TextContentBlock(text=Text(annotations=[], value='Hello'), type='text')], created_at=1718819805, incomplete_at=None, incomplete_details=None, metadata={}, object='thread.message', role='user', run_id=None, status=None, thread_id='thread_VD4CeS0eDljXcySK3R6n7y8Y')"
      ]
     },
     "execution_count": 70,
     "metadata": {},
     "output_type": "execute_result"
    }
   ],
   "source": [
    "thread.add('Hello')"
   ]
  },
  {
   "cell_type": "code",
   "execution_count": 82,
   "metadata": {},
   "outputs": [
    {
     "data": {
      "text/plain": [
       "Message(id='msg_K0ghpQjK9bF5PKaLswIosSNZ', assistant_id=None, attachments=[], completed_at=None, content=[TextContentBlock(text=Text(annotations=[], value='How is it going?'), type='text')], created_at=1718820104, incomplete_at=None, incomplete_details=None, metadata={}, object='thread.message', role='user', run_id=None, status=None, thread_id='thread_VD4CeS0eDljXcySK3R6n7y8Y')"
      ]
     },
     "execution_count": 82,
     "metadata": {},
     "output_type": "execute_result"
    }
   ],
   "source": [
    "thread.add('How is it going?')"
   ]
  },
  {
   "cell_type": "code",
   "execution_count": 83,
   "metadata": {},
   "outputs": [
    {
     "data": {
      "text/plain": [
       "Run(thread=Thread(id='thread_VD4CeS0eDljXcySK3R6n7y8Y', metadata={}), assistant=Assistant(id=None, name='Founder', description=None, instructions='You are entrepneur exploring ideas to assess their desirability, viability and feasability.', model='gpt-4o', tools=[], tool_resources={}, metadata={}), event_handler_class=None, event_handler_kwargs={}, model=None, instructions=None, additional_instructions=None, tools=None, additional_tools=None, data=None)"
      ]
     },
     "execution_count": 83,
     "metadata": {},
     "output_type": "execute_result"
    }
   ],
   "source": [
    "thread.run(ai)"
   ]
  },
  {
   "cell_type": "code",
   "execution_count": 84,
   "metadata": {},
   "outputs": [],
   "source": [
    "messages = thread.get_messages()"
   ]
  },
  {
   "cell_type": "code",
   "execution_count": 85,
   "metadata": {},
   "outputs": [
    {
     "data": {
      "text/plain": [
       "[Message(id='msg_6oRNSF21NQla7qO0dD4EiQIe', assistant_id=None, attachments=[], completed_at=None, content=[TextContentBlock(text=Text(annotations=[], value='Hello'), type='text')], created_at=1718819805, incomplete_at=None, incomplete_details=None, metadata={}, object='thread.message', role='user', run_id=None, status=None, thread_id='thread_VD4CeS0eDljXcySK3R6n7y8Y'),\n",
       " Message(id='msg_K0ghpQjK9bF5PKaLswIosSNZ', assistant_id=None, attachments=[], completed_at=None, content=[TextContentBlock(text=Text(annotations=[], value='How is it going?'), type='text')], created_at=1718820104, incomplete_at=None, incomplete_details=None, metadata={}, object='thread.message', role='user', run_id=None, status=None, thread_id='thread_VD4CeS0eDljXcySK3R6n7y8Y'),\n",
       " Message(id='msg_vlgi5FPhavr0LQNtQnWB3eHJ', assistant_id='asst_CjZaqlK8Cb8m4rGSnetv8U33', attachments=[], completed_at=None, content=[TextContentBlock(text=Text(annotations=[], value=\"Hello! I'm doing well, thank you. How can I assist you today? Are you looking for help with assessing ideas for a business venture?\"), type='text')], created_at=1718820113, incomplete_at=None, incomplete_details=None, metadata={}, object='thread.message', role='assistant', run_id='run_rH6PG7H9Xa7BXeWlhFbCxxYF', status=None, thread_id='thread_VD4CeS0eDljXcySK3R6n7y8Y')]"
      ]
     },
     "execution_count": 85,
     "metadata": {},
     "output_type": "execute_result"
    }
   ],
   "source": [
    "messages"
   ]
  },
  {
   "cell_type": "code",
   "execution_count": 27,
   "metadata": {},
   "outputs": [],
   "source": [
    "class Question(BaseModel):\n",
    "    text: str\n",
    "    reasoning: str\n",
    "\n",
    "class QA(BaseModel):\n",
    "    question: Question\n",
    "    answer: str\n",
    "\n",
    "class Followup(BaseModel):\n",
    "    qa: QA\n",
    "    next_q: Question"
   ]
  },
  {
   "cell_type": "code",
   "execution_count": 45,
   "metadata": {},
   "outputs": [],
   "source": [
    "topic = \"Payment API providers for businesses in Canada. Emphasis on Canada.\"\n",
    "\n",
    "prompt_initial = f\"\"\"\n",
    "Given the following topic, generate a list of crutial initial questions to start your research. \n",
    "Limit yourself to a maximum of 5 questions.\n",
    "As a founder, choose the most important questions to ask about this topic, in order to decide whether\n",
    "there's a worthy business opportunity here.\n",
    "For each question, also explain your reasoning for including it.\n",
    "Topic: {topic}\n",
    "\"\"\""
   ]
  },
  {
   "cell_type": "code",
   "execution_count": 46,
   "metadata": {},
   "outputs": [],
   "source": [
    "system_content = \"\"\"\n",
    "You are an entrepreneur looking to do market research on a given vertical.\n",
    "Your ultimate goal is to find ideas that are desirable (do people have this problem and want a solution for it),\n",
    "feasible (it's possible to build this solution) and viable (there's a business model that makes sense).\n",
    "You also want to review existing solutions in the market and you want to make sure you have found a gap,\n",
    "i.e. a problem that is not well solved by current solutions.\n",
    "Finally, you want to be able to point to the target segment for this problem/solution.\n",
    "\"\"\""
   ]
  },
  {
   "cell_type": "code",
   "execution_count": 47,
   "metadata": {},
   "outputs": [],
   "source": [
    "completion = client.chat.completions.create(\n",
    "  model=\"gpt-4o\",\n",
    "  messages=[\n",
    "    {\"role\": \"system\", \"content\": \"\"},\n",
    "    {\"role\": \"user\", \"content\": prompt_initial}\n",
    "  ]\n",
    ")\n",
    "\n",
    "r = completion.choices[0].message"
   ]
  },
  {
   "cell_type": "code",
   "execution_count": 48,
   "metadata": {},
   "outputs": [
    {
     "data": {
      "text/plain": [
       "ChatCompletionMessage(content='1. **What are the key features and services offered by existing payment API providers in Canada?**\\n   - **Reasoning:** Understanding the current market offerings helps identify what is already available and can highlight any unique requirements or gaps that new solutions can fill. \\n\\n2. **Who are the primary competitors in the Canadian payment API market, and what are their strengths and weaknesses?**\\n   - **Reasoning:** Knowing your competition is crucial for positioning your service. Analyzing their strengths and weaknesses provides insights into areas for improvement or differentiation.\\n\\n3. **What are the legal and regulatory requirements for payment API providers operating in Canada?**\\n   - **Reasoning:** Compliance with financial regulations is essential for operating in the payment space. Understanding legal requirements upfront can help in planning and avoiding costly legal issues later.\\n\\n4. **What are the specific needs and pain points of businesses in Canada when it comes to payment processing?**\\n   - **Reasoning:** Direct feedback from potential customers helps identify real-world challenges and opportunities. Solving real pain points can significantly enhance the value proposition of your offering.\\n\\n5. **How do payment API integration and user experience impact the adoption rates among Canadian businesses?**\\n   - **Reasoning:** Ease of integration and user experience are critical factors influencing the adoption of any tech product. Knowing this can guide product development to meet the expectations of the market.\\n\\n6. **What is the size of the market for payment API services in Canada, and what is its projected growth?**\\n   - **Reasoning:** Assessing the market size and growth potential helps determine if the business opportunity is substantial enough to warrant investment and effort. \\n\\n7. **What pricing models are most effective and competitive for payment API services in the Canadian market?**\\n   - **Reasoning:** Understanding effective pricing strategies ensures that your product is competitively priced while still being profitable, which is crucial for long-term sustainability.\\n\\nThese questions cover market analysis, competitor landscape, regulatory environment, customer needs, product usability, market potential, and pricing strategy. Answering them would provide a solid foundation for evaluating the business opportunity in the Canadian payment API market.', role='assistant', function_call=None, tool_calls=None)"
      ]
     },
     "execution_count": 48,
     "metadata": {},
     "output_type": "execute_result"
    }
   ],
   "source": [
    "r"
   ]
  },
  {
   "cell_type": "code",
   "execution_count": 49,
   "metadata": {},
   "outputs": [],
   "source": [
    "analysis_plan = marvin.extract(r, target=Question)"
   ]
  },
  {
   "cell_type": "code",
   "execution_count": 52,
   "metadata": {},
   "outputs": [
    {
     "name": "stdout",
     "output_type": "stream",
     "text": [
      "Question:\n",
      "What are the key features and services offered by existing payment API providers in Canada?\n",
      "Reasoning:\n",
      "Understanding the current market offerings helps identify what is already available and can highlight any unique requirements or gaps that new solutions can fill.\n",
      "\n",
      "Question:\n",
      "Who are the primary competitors in the Canadian payment API market, and what are their strengths and weaknesses?\n",
      "Reasoning:\n",
      "Knowing your competition is crucial for positioning your service. Analyzing their strengths and weaknesses provides insights into areas for improvement or differentiation.\n",
      "\n",
      "Question:\n",
      "What are the legal and regulatory requirements for payment API providers operating in Canada?\n",
      "Reasoning:\n",
      "Compliance with financial regulations is essential for operating in the payment space. Understanding legal requirements upfront can help in planning and avoiding costly legal issues later.\n",
      "\n",
      "Question:\n",
      "What are the specific needs and pain points of businesses in Canada when it comes to payment processing?\n",
      "Reasoning:\n",
      "Direct feedback from potential customers helps identify real-world challenges and opportunities. Solving real pain points can significantly enhance the value proposition of your offering.\n",
      "\n",
      "Question:\n",
      "How do payment API integration and user experience impact the adoption rates among Canadian businesses?\n",
      "Reasoning:\n",
      "Ease of integration and user experience are critical factors influencing the adoption of any tech product. Knowing this can guide product development to meet the expectations of the market.\n",
      "\n",
      "Question:\n",
      "What is the size of the market for payment API services in Canada, and what is its projected growth?\n",
      "Reasoning:\n",
      "Assessing the market size and growth potential helps determine if the business opportunity is substantial enough to warrant investment and effort.\n",
      "\n",
      "Question:\n",
      "What pricing models are most effective and competitive for payment API services in the Canadian market?\n",
      "Reasoning:\n",
      "Understanding effective pricing strategies ensures that your product is competitively priced while still being profitable, which is crucial for long-term sustainability.\n",
      "\n"
     ]
    }
   ],
   "source": [
    "for q in analysis_plan:\n",
    "    print('Question:')\n",
    "    print(q.text)\n",
    "    print('Reasoning:')\n",
    "    print(q.reasoning)\n",
    "    print()"
   ]
  },
  {
   "cell_type": "code",
   "execution_count": null,
   "metadata": {},
   "outputs": [],
   "source": [
    "docket = []\n",
    "\n",
    "for q in analysis_plan:\n",
    "    # answer question + extract output as QA object\n",
    "    perplexity_prompt = \"\"\"\n",
    "    {q.question}\n",
    "    \"\"\"\n",
    "    # perplexity api call -> answer\n",
    "\n",
    "    answer_str = \"\"\"\n",
    "    Question: {q.question}\n",
    "    Reasoning: {q.reasoning}\n",
    "    Answer: {answer}\n",
    "    \"\"\"\n",
    "\n",
    "    qa = marvin.extract(answer_str, target=QA)\n",
    "    docket.append(qa)"
   ]
  },
  {
   "cell_type": "code",
   "execution_count": null,
   "metadata": {},
   "outputs": [],
   "source": [
    "prompt_final_questions = \"\"\n",
    "\n",
    "for idx, qa in enumerate(docket):\n",
    "    prompt_final_questions += str(idx) + '.\\n'\n",
    "    prompt_final_questions += 'Question: ' + qa.question.text + '\\n'\n",
    "    prompt_final_questions += 'Reasoning: ' + qa.question.reasoning + '\\n'\n",
    "    prompt_final_questions += 'Answer: ' + qa.answer + '\\n'\n",
    "    prompt_final_questions += '\\n'"
   ]
  },
  {
   "cell_type": "code",
   "execution_count": null,
   "metadata": {},
   "outputs": [],
   "source": [
    "prompt_final_base = \"\"\"\n",
    "Here are the questions you want to be able to answer:\n",
    "\n",
    "a. What is the market need?\n",
    "\n",
    "Explanation: To understand a market need is to understand a (currently) unfilled desire or potential. \n",
    "New ventures generally begin with a hypothesis that this potential is real, \n",
    "but the first order of business is always to validate this assumption, \n",
    "and usually to revise the hypothesis on the basis of facts and evidence.\n",
    "\n",
    "b. What is a feasible solution?\n",
    "\n",
    "Explanation: The entrepreneur will try to understand what will be required to offer a compelling solution \n",
    "that will actually spur the change in consumption required (solve the market need).\n",
    " This discipline will minimize that chance of creating a product concept that misses the mark or \n",
    " fails to take into account critical dimensions of the need or possible inhibitors to adoption.\n",
    "\n",
    "c. What is the competition\n",
    "\n",
    "Explanation: Competition is the universe of alternatives that the potential customer has. \n",
    "Competition must be considered from the customers perspective. \n",
    "What are the full set of alternatives that the customer has.\n",
    "\n",
    "To answer these questions, here's the docket you have assembled so far:\n",
    "\n",
    "{prompt_final_questions}\n",
    "\n",
    "Do you have all the information you need to answer questions a, b and c?\n",
    "\"\"\""
   ]
  },
  {
   "cell_type": "code",
   "execution_count": null,
   "metadata": {},
   "outputs": [],
   "source": []
  }
 ],
 "metadata": {
  "interpreter": {
   "hash": "c7d7b4a72a7ab1202c1aa1d2d4ccffc9579def15d15f416b3055c17297e196fd"
  },
  "kernelspec": {
   "display_name": "Python 3.12.3 64-bit (system)",
   "language": "python",
   "name": "python3"
  },
  "language_info": {
   "codemirror_mode": {
    "name": "ipython",
    "version": 3
   },
   "file_extension": ".py",
   "mimetype": "text/x-python",
   "name": "python",
   "nbconvert_exporter": "python",
   "pygments_lexer": "ipython3",
   "version": "3.12.3"
  },
  "orig_nbformat": 4
 },
 "nbformat": 4,
 "nbformat_minor": 2
}
