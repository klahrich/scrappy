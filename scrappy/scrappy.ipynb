{
 "cells": [
  {
   "cell_type": "code",
   "execution_count": 1,
   "metadata": {},
   "outputs": [],
   "source": [
    "from vertexai.preview.generative_models import GenerativeModel\n",
    "from IPython.display import display, Markdown\n",
    "from dotenv import load_dotenv\n",
    "import streamlit as st\n",
    "import typer\n",
    "import logging\n",
    "from typing import List, Dict\n",
    "import re\n",
    "from langchain_google_community import GoogleSearchAPIWrapper\n",
    "from langchain_community.document_loaders import AsyncHtmlLoader\n",
    "from langchain_community.document_transformers import Html2TextTransformer\n",
    "from langchain_core.documents.base import Document\n",
    "from pydantic import BaseModel, ValidationError\n",
    "import json"
   ]
  },
  {
   "cell_type": "code",
   "execution_count": 2,
   "metadata": {},
   "outputs": [
    {
     "data": {
      "text/plain": [
       "True"
      ]
     },
     "execution_count": 2,
     "metadata": {},
     "output_type": "execute_result"
    }
   ],
   "source": [
    "load_dotenv()"
   ]
  },
  {
   "cell_type": "code",
   "execution_count": 3,
   "metadata": {},
   "outputs": [],
   "source": [
    "llm = GenerativeModel(\"gemini-1.0-pro\")"
   ]
  },
  {
   "cell_type": "code",
   "execution_count": 4,
   "metadata": {},
   "outputs": [],
   "source": [
    "search = GoogleSearchAPIWrapper(k=3)"
   ]
  },
  {
   "cell_type": "code",
   "execution_count": 5,
   "metadata": {},
   "outputs": [],
   "source": [
    "logger = logging.getLogger(__name__)\n",
    "logging.basicConfig(level=logging.INFO)"
   ]
  },
  {
   "cell_type": "code",
   "execution_count": 6,
   "metadata": {},
   "outputs": [],
   "source": [
    "\n",
    "class Answer(BaseModel):\n",
    "    source: str\n",
    "    summary: str\n",
    "\n",
    "\n",
    "# source: https://hasanaboulhasan.medium.com/how-to-get-consistent-json-from-google-gemini-with-practical-example-48612ed1ab40\n",
    "def extract_json(text_response):\n",
    "    # This pattern matches a string that starts with '{' and ends with '}'\n",
    "    pattern = r'\\{[^{}]*\\}'\n",
    "    matches = re.finditer(pattern, text_response)\n",
    "    json_objects = []\n",
    "    for match in matches:\n",
    "        json_str = match.group(0)\n",
    "        try:\n",
    "            # Validate if the extracted string is valid JSON\n",
    "            json_obj = json.loads(json_str)\n",
    "            json_objects.append(json_obj)\n",
    "        except json.JSONDecodeError:\n",
    "            # Extend the search for nested structures\n",
    "            extended_json_str = extend_search(text_response, match.span())\n",
    "            try:\n",
    "                json_obj = json.loads(extended_json_str)\n",
    "                json_objects.append(json_obj)\n",
    "            except json.JSONDecodeError:\n",
    "                # Handle cases where the extraction is not valid JSON\n",
    "                continue\n",
    "    if json_objects:\n",
    "        return json_objects\n",
    "    else:\n",
    "        return None  # Or handle this case as you prefer\n",
    "\n",
    "\n",
    "def extend_search(text, span):\n",
    "    # Extend the search to try to capture nested structures\n",
    "    start, end = span\n",
    "    nest_count = 0\n",
    "    for i in range(start, len(text)):\n",
    "        if text[i] == '{':\n",
    "            nest_count += 1\n",
    "        elif text[i] == '}':\n",
    "            nest_count -= 1\n",
    "            if nest_count == 0:\n",
    "                return text[start:i+1]\n",
    "    return text[start:end]\n",
    "\n",
    "\n",
    "def validate_json_with_model(model_class, json_data):\n",
    "    \"\"\"\n",
    "    Validates JSON data against a specified Pydantic model.\n",
    "    Args:\n",
    "        model_class (BaseModel): The Pydantic model class to validate against.\n",
    "        json_data (dict or list): JSON data to validate. Can be a dict for a single JSON object, \n",
    "                                  or a list for multiple JSON objects.\n",
    "    Returns:\n",
    "        list: A list of validated JSON objects that match the Pydantic model.\n",
    "        list: A list of errors for JSON objects that do not match the model.\n",
    "    \"\"\"\n",
    "    validated_data = []\n",
    "    validation_errors = []\n",
    "    if isinstance(json_data, list):\n",
    "        for item in json_data:\n",
    "            try:\n",
    "                model_instance = model_class(**item)\n",
    "                validated_data.append(model_instance.dict())\n",
    "            except ValidationError as e:\n",
    "                validation_errors.append({\"error\": str(e), \"data\": item})\n",
    "    elif isinstance(json_data, dict):\n",
    "        try:\n",
    "            model_instance = model_class(**json_data)\n",
    "            validated_data.append(model_instance.dict())\n",
    "        except ValidationError as e:\n",
    "            validation_errors.append({\"error\": str(e), \"data\": json_data})\n",
    "    else:\n",
    "        raise ValueError(\"Invalid JSON data type. Expected dict or list.\")\n",
    "    return validated_data, validation_errors\n",
    "\n",
    "\n",
    "def json_to_pydantic(model_class, json_data):\n",
    "    try:\n",
    "        model_instance = model_class(**json_data)\n",
    "        return model_instance\n",
    "    except ValidationError as e:\n",
    "        print(\"Validation error:\", e)\n",
    "        return None"
   ]
  },
  {
   "cell_type": "code",
   "execution_count": 7,
   "metadata": {},
   "outputs": [],
   "source": [
    "question = \"\"\"What are some companies that offer a payment services API in Canada and what functionalities do they offer\"\"\""
   ]
  },
  {
   "cell_type": "code",
   "execution_count": 8,
   "metadata": {},
   "outputs": [],
   "source": [
    "def prompt_for_queries(question:str, nb_queries:int=3) -> str:\n",
    "    prompt = f'''You are an assistant tasked with improving Google search \n",
    "results. Generate {nb_queries} Google search queries that are similar to \n",
    "this question: {question}. The output should be a numbered list of questions and each \n",
    "should have a question mark at the end. Do not include anything else in your answer, \n",
    "do not repeat the question.'''\n",
    "    return prompt"
   ]
  },
  {
   "cell_type": "code",
   "execution_count": 9,
   "metadata": {},
   "outputs": [],
   "source": [
    "def parse_queries(text: str) -> List[str]:\n",
    "    lines = re.findall(r\"\\d+\\..*?(?:\\n|$)\", text)\n",
    "    return [re.sub(r'\\d+\\.', '', l).strip() for l in lines]"
   ]
  },
  {
   "cell_type": "code",
   "execution_count": 10,
   "metadata": {},
   "outputs": [],
   "source": [
    "def search_queries(llm, question:str) -> str:\n",
    "\n",
    "    logger.info(f'Question: {question}')\n",
    "\n",
    "    prompt = prompt_for_queries(question)\n",
    "\n",
    "    logger.info(f'Prompt: {prompt}')\n",
    "\n",
    "    model_response = llm.generate_content(prompt)\n",
    "\n",
    "    logger.info(f'Answer: \\n{model_response.text}')\n",
    "\n",
    "    questions = parse_queries(model_response.text)\n",
    "\n",
    "    for idx, q in enumerate(questions):\n",
    "        logger.info(f'{idx}. {q}')\n",
    "\n",
    "    return questions"
   ]
  },
  {
   "cell_type": "code",
   "execution_count": 12,
   "metadata": {},
   "outputs": [
    {
     "name": "stderr",
     "output_type": "stream",
     "text": [
      "INFO:__main__:Question: What are some companies that offer a payment services API in Canada and what functionalities do they offer\n",
      "INFO:__main__:Prompt: You are an assistant tasked with improving Google search \n",
      "results. Generate 3 Google search queries that are similar to \n",
      "this question: What are some companies that offer a payment services API in Canada and what functionalities do they offer. The output should be a numbered list of questions and each \n",
      "should have a question mark at the end. Do not include anything else in your answer, \n",
      "do not repeat the question.\n",
      "INFO:__main__:Answer: \n",
      "1. Which Canadian payment service providers offer recurring billing functionalities through their APIs?\n",
      "2. What are the transaction fees associated with using different payment service APIs in Canada?\n",
      "3. How do the security features of Canadian payment service APIs compare to international providers?\n",
      "INFO:__main__:0. Which Canadian payment service providers offer recurring billing functionalities through their APIs?\n",
      "INFO:__main__:1. What are the transaction fees associated with using different payment service APIs in Canada?\n",
      "INFO:__main__:2. How do the security features of Canadian payment service APIs compare to international providers?\n"
     ]
    }
   ],
   "source": [
    "queries = search_queries(llm, question)"
   ]
  },
  {
   "cell_type": "code",
   "execution_count": 13,
   "metadata": {},
   "outputs": [
    {
     "data": {
      "text/plain": [
       "['Which Canadian payment service providers offer recurring billing functionalities through their APIs?',\n",
       " 'What are the transaction fees associated with using different payment service APIs in Canada?',\n",
       " 'How do the security features of Canadian payment service APIs compare to international providers?']"
      ]
     },
     "execution_count": 13,
     "metadata": {},
     "output_type": "execute_result"
    }
   ],
   "source": [
    "queries"
   ]
  },
  {
   "cell_type": "code",
   "execution_count": 14,
   "metadata": {},
   "outputs": [],
   "source": [
    "def search_results(search, queries:List[str], nb_results:int=3) -> List[Dict]:\n",
    "    search_results = {}\n",
    "\n",
    "    for q in queries:\n",
    "        results = search.results(q, nb_results)\n",
    "        for r in results:\n",
    "            search_results[r['link']] = {\n",
    "                'title': r['title'],\n",
    "                'snippet': r['snippet']\n",
    "            }\n",
    "\n",
    "    return search_results"
   ]
  },
  {
   "cell_type": "code",
   "execution_count": 15,
   "metadata": {},
   "outputs": [],
   "source": [
    "results = search_results(search, queries)"
   ]
  },
  {
   "cell_type": "code",
   "execution_count": 18,
   "metadata": {},
   "outputs": [],
   "source": [
    "def extract_docs(search_results:List[Dict]) -> List[Document]:\n",
    "    loader = AsyncHtmlLoader([link for link in search_results.keys()], ignore_load_errors=True)\n",
    "    html2text = Html2TextTransformer()\n",
    "    docs_html = loader.load()\n",
    "    docs = list(html2text.transform_documents(docs_html))\n",
    "    return docs"
   ]
  },
  {
   "cell_type": "code",
   "execution_count": 19,
   "metadata": {},
   "outputs": [
    {
     "name": "stderr",
     "output_type": "stream",
     "text": [
      "Fetching pages: 100%|##########| 8/8 [00:16<00:00,  2.01s/it]\n"
     ]
    }
   ],
   "source": [
    "docs = extract_docs(results)"
   ]
  },
  {
   "cell_type": "code",
   "execution_count": 29,
   "metadata": {},
   "outputs": [
    {
     "data": {
      "text/plain": [
       "{'source': 'https://stripe.com/resources/more/payment-application-program-interfaces-apis',\n",
       " 'title': 'Payment APIs: What they are and benefits for businesses | Stripe',\n",
       " 'description': 'Learn the key features of payment APIs, the different types that exist and how businesses can best use them.',\n",
       " 'language': 'en-CA'}"
      ]
     },
     "execution_count": 29,
     "metadata": {},
     "output_type": "execute_result"
    }
   ],
   "source": [
    "docs[0].metadata"
   ]
  },
  {
   "cell_type": "code",
   "execution_count": 20,
   "metadata": {},
   "outputs": [],
   "source": [
    "def is_relevant(llm, question:str, document:Document) -> str:\n",
    "    prompt = f'''You are an assistant tasked with deciding whether a document is relevant\n",
    "    to the following question: {question}.\n",
    "    Here is the document:\\n\n",
    "\n",
    "    <Document>\n",
    "    {document.page_content[:32766]}\n",
    "    </Document>\n",
    "\n",
    "    Is the document relevant to the question at hand?\n",
    "    Limit your answer to yes or no. \n",
    "    Do not add any explanation, do not repeat the question.\n",
    "    Answer either yes or no, nothing more.\n",
    "    '''\n",
    "    model_response = llm.generate_content(prompt)\n",
    "    yes_or_no = re.findall('yes|no', model_response.text, re.IGNORECASE)\n",
    "    if len(yes_or_no) > 0:\n",
    "        if yes_or_no[0].lower().strip() == 'yes':\n",
    "            return True\n",
    "    return False"
   ]
  },
  {
   "cell_type": "code",
   "execution_count": 30,
   "metadata": {},
   "outputs": [],
   "source": [
    "def summarize_document(llm:GenerativeModel, question:str, document:Document) -> str:\n",
    "    prompt = f'''You are an assistant tasked with summarizing a document as it pertains\n",
    "    to the following question: {question}.\n",
    "    You are given the source URL and the document content.\n",
    "    \n",
    "    <Url>\n",
    "    {document.metadata['source']}\n",
    "    </Url>\n",
    "\n",
    "    <Document>\n",
    "    {document.page_content[:32766]}\n",
    "    </Document>\n",
    "\n",
    "    Summarize the document using bullet points, in a way that will allow another analyst to \n",
    "    thoroughly answer the question using only your summary.\n",
    "\n",
    "    Please provide a response in the following format:\n",
    "\n",
    "    Title: provide a title here.\n",
    "    \n",
    "    Source: {document.metadata['source']}\n",
    "    \n",
    "    Summary: \n",
    "    - bullet point 1\n",
    "    - bullet point 2\n",
    "    - bullet point 3\n",
    "    - etc.\n",
    "    '''\n",
    "    model_response = llm.generate_content(prompt)\n",
    "    return model_response.text"
   ]
  },
  {
   "cell_type": "code",
   "execution_count": 31,
   "metadata": {},
   "outputs": [],
   "source": [
    "summary = summarize_document(llm, question, docs[0])"
   ]
  },
  {
   "cell_type": "code",
   "execution_count": 32,
   "metadata": {},
   "outputs": [
    {
     "name": "stdout",
     "output_type": "stream",
     "text": [
      "## Stripe Payment APIs in Canada\n",
      "\n",
      "**Source:** https://stripe.com/resources/more/payment-application-program-interfaces-apis\n",
      "\n",
      "**Summary:**\n",
      "\n",
      "* **Types of APIs:** \n",
      "    * Transaction APIs\n",
      "    * Subscription APIs\n",
      "    * Tokenization APIs\n",
      "    * Payout APIs\n",
      "    * Preauthorization APIs\n",
      "    * Data and reporting APIs\n",
      "* **Benefits of using payment APIs:**\n",
      "    * Security and compliance\n",
      "    * Simplified payment processing\n",
      "    * Speed and efficiency\n",
      "    * Multicurrency and international payments\n",
      "    * Versatile payment options\n",
      "    * Improved cash flow management\n",
      "    * Data insights and reporting\n",
      "    * Scalability\n",
      "    * Integration and customization\n",
      "* **Stripe's payment APIs:**\n",
      "    * Payment processing\n",
      "    * Subscriptions and billing\n",
      "    * Connect platform\n",
      "    * Radar for fraud management\n",
      "    * Reporting and analytics\n",
      "    * International payments\n",
      "* **Stripe API Availability in Canada:** Yes, Stripe's payment APIs are available in Canada.\n",
      "* **Multicurrency Support:** Stripe supports over 135 currencies, including Canadian Dollar (CAD).\n",
      "* **International Payment Support:** Stripe can facilitate international payments to and from Canada.\n",
      "\n",
      "\n"
     ]
    }
   ],
   "source": [
    "print(summary)"
   ]
  },
  {
   "cell_type": "code",
   "execution_count": 111,
   "metadata": {},
   "outputs": [],
   "source": [
    "def answer_question(llm, question:str, summaries:List[str]) -> str:\n",
    "    prompt = f'''You are an assistant tasked with answering the following question: {question}.\n",
    "    You are given the following reference summarized documents:\n",
    "\n",
    "    <Summarized Documents>\n",
    "    '''\n",
    "\n",
    "    for idx, s in enumerate(summaries):\n",
    "        prompt += f'[Summarized Document {idx+1}]\\n\\n'\n",
    "        prompt += s\n",
    "    \n",
    "    prompt += '''</Summarized Documents>\n",
    "    You MUST source your answer only from the documents above.\n",
    "    Your answer should follow this format:\n",
    "    ![title 1](source 1)\n",
    "    - bullet point 1\n",
    "    - bullet point 2\n",
    "    - bullet point 3\n",
    "\n",
    "    ![tilte 2](source 2)\n",
    "    - bullet point 1\n",
    "    - bullet point 2\n",
    "    - bullet point 3\n",
    "\n",
    "    etc.\n",
    "    '''\n",
    "    \n",
    "    model_response = llm.generate_content(prompt)\n",
    "    return model_response.text\n",
    "    "
   ]
  },
  {
   "cell_type": "code",
   "execution_count": 125,
   "metadata": {},
   "outputs": [
    {
     "name": "stdout",
     "output_type": "stream",
     "text": [
      "['No']\n",
      "['yes']\n",
      "['Yes']\n",
      "['yes']\n",
      "['No']\n",
      "['yes']\n",
      "['no']\n",
      "['No']\n",
      "['no']\n"
     ]
    }
   ],
   "source": [
    "summaries = [summarize_document(question, d) for d in docs\n",
    "                if is_relevant(question, d)]           "
   ]
  },
  {
   "cell_type": "code",
   "execution_count": 126,
   "metadata": {},
   "outputs": [
    {
     "data": {
      "text/plain": [
       "2586"
      ]
     },
     "execution_count": 126,
     "metadata": {},
     "output_type": "execute_result"
    }
   ],
   "source": [
    "sum([len(s) for s in summaries])"
   ]
  },
  {
   "cell_type": "code",
   "execution_count": null,
   "metadata": {},
   "outputs": [],
   "source": [
    "answer = answer_question(question, summaries)\n",
    "\n",
    "print(answer)"
   ]
  },
  {
   "cell_type": "code",
   "execution_count": null,
   "metadata": {},
   "outputs": [],
   "source": []
  }
 ],
 "metadata": {
  "interpreter": {
   "hash": "c7d7b4a72a7ab1202c1aa1d2d4ccffc9579def15d15f416b3055c17297e196fd"
  },
  "kernelspec": {
   "display_name": "Python 3.12.3 64-bit (system)",
   "language": "python",
   "name": "python3"
  },
  "language_info": {
   "codemirror_mode": {
    "name": "ipython",
    "version": 3
   },
   "file_extension": ".py",
   "mimetype": "text/x-python",
   "name": "python",
   "nbconvert_exporter": "python",
   "pygments_lexer": "ipython3",
   "version": "3.12.3"
  },
  "orig_nbformat": 4
 },
 "nbformat": 4,
 "nbformat_minor": 2
}
