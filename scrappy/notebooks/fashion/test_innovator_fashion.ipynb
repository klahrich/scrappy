{
 "cells": [
  {
   "cell_type": "code",
   "execution_count": 1,
   "metadata": {},
   "outputs": [],
   "source": [
    "%load_ext autoreload\n",
    "%autoreload 2"
   ]
  },
  {
   "cell_type": "code",
   "execution_count": 28,
   "metadata": {},
   "outputs": [],
   "source": [
    "from scrappy.innovator import Innovator\n",
    "from IPython.display import display, Markdown, display_html, display_javascript\n",
    "import json\n",
    "import uuid"
   ]
  },
  {
   "cell_type": "code",
   "execution_count": 26,
   "metadata": {},
   "outputs": [],
   "source": [
    "class RenderJSON(object):\n",
    "    def __init__(self, json_data):\n",
    "        if isinstance(json_data, dict):\n",
    "            self.json_str = json.dumps(json_data)\n",
    "        else:\n",
    "            self.json_str = json_data\n",
    "        self.uuid = str(uuid.uuid4())\n",
    "\n",
    "    def _ipython_display_(self):\n",
    "        display_html('<div id=\"{}\" style=\"height: 600px; width:100%;\"></div>'.format(self.uuid), raw=True)\n",
    "        display_javascript(\"\"\"\n",
    "        require([\"https://rawgit.com/caldwell/renderjson/master/renderjson.js\"], function() {\n",
    "        document.getElementById('%s').appendChild(renderjson(%s))\n",
    "        });\n",
    "        \"\"\" % (self.uuid, self.json_str), raw=True)"
   ]
  },
  {
   "cell_type": "code",
   "execution_count": 4,
   "metadata": {},
   "outputs": [],
   "source": [
    "innovator = Innovator('Digital magazine, like tiktok videos but only for fashion products')"
   ]
  },
  {
   "cell_type": "code",
   "execution_count": 5,
   "metadata": {},
   "outputs": [],
   "source": [
    "r = innovator.search_jtbd()"
   ]
  },
  {
   "cell_type": "code",
   "execution_count": 6,
   "metadata": {},
   "outputs": [
    {
     "data": {
      "text/markdown": [
       "After conducting research in forums and websites related to the field of digital magazines like TikTok videos for fashion products, I've identified some potential jobs to be done for customers. Here are the results:\n",
       "\n",
       "1. **Job Statement:** \"Discover new fashion trends and styles through engaging, short-form videos.\"\n",
       "**Focus Market:** Core Growth\n",
       "**Reasoning:** This job belongs to the core growth focus market because customers are looking to achieve a specific outcome (discovering new fashion trends and styles) and the current solution (digital magazines) is not meeting their expectations. By creating a more engaging and interactive experience, customers can achieve their desired outcome more effectively.\n",
       "\n",
       "Associated Outcome Expectations:\n",
       "\n",
       "* Customer Desired Outcome: Increase the likelihood of staying up-to-date with the latest fashion trends.\n",
       "* Customer Undesired Outcome: Minimize the time spent searching for fashion inspiration.\n",
       "* Provider Desired Outcome: Increase customer engagement and loyalty through interactive content.\n",
       "* Provider Undesired Outcome: Minimize the risk of losing customers to competitors who offer more engaging content.\n",
       "\n",
       "2. **Job Statement:** \"Get inspiration for my next fashion purchase through curated, short-form videos.\"\n",
       "**Focus Market:** Related Jobs\n",
       "**Reasoning:** This job belongs to the related jobs focus market because customers are looking to achieve a specific outcome (getting inspiration for their next fashion purchase) and the current solution (digital magazines) is already meeting some of their needs. By creating a more curated and personalized experience, customers can achieve their desired outcome more effectively.\n",
       "\n",
       "Associated Outcome Expectations:\n",
       "\n",
       "* Customer Desired Outcome: Increase the likelihood of making a fashion purchase that aligns with my personal style.\n",
       "* Customer Undesired Outcome: Minimize the time spent browsing through irrelevant fashion content.\n",
       "* Provider Desired Outcome: Increase customer satisfaction through personalized content recommendations.\n",
       "* Provider Undesired Outcome: Minimize the risk of losing customers to competitors who offer more personalized content.\n",
       "\n",
       "3. **Job Statement:** \"Learn how to style my existing fashion items through step-by-step, short-form videos.\"\n",
       "**Focus Market:** Core Growth\n",
       "**Reasoning:** This job belongs to the core growth focus market because customers are looking to achieve a specific outcome (learning how to style their existing fashion items) and the current solution (digital magazines) is not meeting their expectations. By creating a more interactive and instructional experience, customers can achieve their desired outcome more effectively.\n",
       "\n",
       "Associated Outcome Expectations:\n",
       "\n",
       "* Customer Desired Outcome: Increase the likelihood of getting more use out of my existing fashion items.\n",
       "* Customer Undesired Outcome: Minimize the time spent searching for styling tips.\n",
       "* Provider Desired Outcome: Increase customer satisfaction through educational content.\n",
       "* Provider Undesired Outcome: Minimize the risk of losing customers to competitors who offer more educational content.\n",
       "\n",
       "4. **Job Statement:** \"Get access to exclusive fashion content and promotions through a subscription-based digital magazine.\"\n",
       "**Focus Market:** Disruptive Innovation\n",
       "**Reasoning:** This job belongs to the disruptive innovation focus market because customers are looking to achieve a specific outcome (getting access to exclusive fashion content and promotions) and the current solution (digital magazines) is not meeting their expectations. By creating a subscription-based model, customers can achieve their desired outcome more effectively and at a lower cost.\n",
       "\n",
       "Associated Outcome Expectations:\n",
       "\n",
       "* Customer Desired Outcome: Increase the likelihood of getting access to exclusive fashion content and promotions.\n",
       "* Customer Undesired Outcome: Minimize the cost of accessing exclusive fashion content and promotions.\n",
       "* Provider Desired Outcome: Increase customer loyalty and retention through a subscription-based model.\n",
       "* Provider Undesired Outcome: Minimize the risk of losing customers to competitors who offer more exclusive content.\n",
       "\n",
       "5. **Job Statement:** \"Use a digital magazine to plan my outfit for the day through interactive, short-form videos.\"\n",
       "**Focus Market:** Core Growth\n",
       "**Reasoning:** This job belongs to the core growth focus market because customers are looking to achieve a specific outcome (planning their outfit for the day) and the current solution (digital magazines) is not meeting their expectations. By creating a more interactive and personalized experience, customers can achieve their desired outcome more effectively.\n",
       "\n",
       "Associated Outcome Expectations:\n",
       "\n",
       "* Customer Desired Outcome: Increase the likelihood of planning a successful outfit for the day.\n",
       "* Customer Undesired Outcome: Minimize the time spent deciding what to wear.\n",
       "* Provider Desired Outcome: Increase customer satisfaction through personalized content recommendations.\n",
       "* Provider Undesired Outcome: Minimize the risk of losing customers to competitors who offer more personalized content.\n",
       "\n",
       "These are just a few examples of potential jobs to be done for customers in the field of digital magazines like TikTok videos for fashion products. By understanding these jobs and creating solutions that meet customer needs, businesses can innovate and grow in this market."
      ],
      "text/plain": [
       "<IPython.core.display.Markdown object>"
      ]
     },
     "metadata": {},
     "output_type": "display_data"
    }
   ],
   "source": [
    "display(Markdown(r))"
   ]
  },
  {
   "cell_type": "code",
   "execution_count": 30,
   "metadata": {},
   "outputs": [],
   "source": [
    "jtbd = innovator.structure_jtbd(r)"
   ]
  },
  {
   "cell_type": "code",
   "execution_count": 31,
   "metadata": {},
   "outputs": [
    {
     "data": {
      "text/plain": [
       "list"
      ]
     },
     "execution_count": 31,
     "metadata": {},
     "output_type": "execute_result"
    }
   ],
   "source": [
    "type(jtbd)"
   ]
  },
  {
   "cell_type": "code",
   "execution_count": 32,
   "metadata": {},
   "outputs": [
    {
     "data": {
      "text/plain": [
       "5"
      ]
     },
     "execution_count": 32,
     "metadata": {},
     "output_type": "execute_result"
    }
   ],
   "source": [
    "len(jtbd)"
   ]
  },
  {
   "cell_type": "code",
   "execution_count": 33,
   "metadata": {},
   "outputs": [
    {
     "data": {
      "text/html": [
       "<div id=\"069886f2-7246-4a6f-8eb8-29de5810b6c5\" style=\"height: 600px; width:100%;\"></div>"
      ]
     },
     "metadata": {},
     "output_type": "display_data"
    },
    {
     "data": {
      "application/javascript": "\n        require([\"https://rawgit.com/caldwell/renderjson/master/renderjson.js\"], function() {\n        document.getElementById('069886f2-7246-4a6f-8eb8-29de5810b6c5').appendChild(renderjson({\"job_statement\":\"Discover new fashion trends and styles through engaging, short-form videos.\",\"focus_market\":{\"type\":\"Core growth\",\"reasoning\":\"This job belongs to the core growth focus market because customers are looking to achieve a specific outcome (discovering new fashion trends and styles) and the current solution (digital magazines) is not meeting their expectations. By creating a more engaging and interactive experience, customers can achieve their desired outcome more effectively.\"},\"outcome_expectations\":[{\"expectation_statement\":\"Increase the likelihood of staying up-to-date with the latest fashion trends.\",\"outcome_type\":\"Customer desired outcome\"},{\"expectation_statement\":\"Minimize the time spent searching for fashion inspiration.\",\"outcome_type\":\"Customer undesired outcome\"},{\"expectation_statement\":\"Increase customer engagement and loyalty through interactive content.\",\"outcome_type\":\"Provider desired outcome\"},{\"expectation_statement\":\"Minimize the risk of losing customers to competitors who offer more engaging content.\",\"outcome_type\":\"Provider undesired outcome\"}]}))\n        });\n        "
     },
     "metadata": {},
     "output_type": "display_data"
    }
   ],
   "source": [
    "RenderJSON(jtbd[0].model_dump_json())"
   ]
  },
  {
   "cell_type": "code",
   "execution_count": 12,
   "metadata": {},
   "outputs": [
    {
     "data": {
      "text/plain": [
       "[OutcomeExpectation(expectation_statement='Increase the likelihood of staying up-to-date with the latest fashion trends.', outcome_type='Customer desired outcome'),\n",
       " OutcomeExpectation(expectation_statement='Minimize the time spent searching for fashion inspiration.', outcome_type='Customer undesired outcome'),\n",
       " OutcomeExpectation(expectation_statement='Increase customer engagement and loyalty through interactive content.', outcome_type='Provider desired outcome'),\n",
       " OutcomeExpectation(expectation_statement='Minimize the risk of losing customers to competitors who offer more engaging content.', outcome_type='Provider undesired outcome')]"
      ]
     },
     "execution_count": 12,
     "metadata": {},
     "output_type": "execute_result"
    }
   ],
   "source": [
    "jtbd[0].outcome_expectations"
   ]
  },
  {
   "cell_type": "code",
   "execution_count": 13,
   "metadata": {},
   "outputs": [
    {
     "data": {
      "text/plain": [
       "OutcomeExpectation(expectation_statement='Increase the likelihood of staying up-to-date with the latest fashion trends.', outcome_type='Customer desired outcome')"
      ]
     },
     "execution_count": 13,
     "metadata": {},
     "output_type": "execute_result"
    }
   ],
   "source": [
    "jtbd[0].outcome_expectations[0]"
   ]
  },
  {
   "cell_type": "code",
   "execution_count": 24,
   "metadata": {},
   "outputs": [],
   "source": [
    "with open('farfetch.txt', 'r') as f:\n",
    "    farfetch_info = f.read()"
   ]
  },
  {
   "cell_type": "code",
   "execution_count": 26,
   "metadata": {},
   "outputs": [],
   "source": [
    "innovator.add_knowledge(farfetch_info)"
   ]
  },
  {
   "cell_type": "code",
   "execution_count": 29,
   "metadata": {},
   "outputs": [],
   "source": [
    "r2 = innovator.search_jtbd()"
   ]
  },
  {
   "cell_type": "code",
   "execution_count": 30,
   "metadata": {},
   "outputs": [
    {
     "data": {
      "text/markdown": [
       "After conducting research in forums and websites related to digital magazines and fashion products, I've identified some potential jobs to be done for customers in this field. Here are the results:\n",
       "\n",
       "1. **Job Statement:** Explore fashion trends and styles through interactive, short-form content.\n",
       "**Focus Market:** Core Growth\n",
       "**Reasoning:** Customers want to stay up-to-date with the latest fashion trends and styles, but traditional fashion magazines may not provide the level of interactivity and brevity they desire. A digital magazine that offers short-form, interactive content can meet this unmet outcome expectation.\n",
       "\n",
       "2. **Job Statement:** Discover new fashion products and brands through curated, visually appealing content.\n",
       "**Focus Market:** Core Growth\n",
       "**Reasoning:** Customers want to discover new fashion products and brands, but may not have the time or resources to scour the internet for inspiration. A digital magazine that curates visually appealing content can help customers achieve this outcome expectation.\n",
       "\n",
       "3. **Job Statement:** Get inspiration for fashion-related purchases through influencer-led content.\n",
       "**Focus Market:** Related Jobs\n",
       "**Reasoning:** Customers want to get inspiration for fashion-related purchases, but may not have a clear idea of what they're looking for. A digital magazine that features influencer-led content can help customers achieve this outcome expectation by providing relatable and trustworthy recommendations.\n",
       "\n",
       "4. **Job Statement:** Learn about fashion history and culture through engaging, bite-sized content.\n",
       "**Focus Market:** Core Growth\n",
       "**Reasoning:** Customers want to learn about fashion history and culture, but may not have the time or interest to read lengthy articles or books. A digital magazine that offers engaging, bite-sized content can meet this unmet outcome expectation.\n",
       "\n",
       "5. **Job Statement:** Stay informed about fashion news and events through a centralized, easy-to-consume platform.\n",
       "**Focus Market:** Core Growth\n",
       "**Reasoning:** Customers want to stay informed about fashion news and events, but may not have a centralized platform to consume this information. A digital magazine that offers a centralized, easy-to-consume platform can meet this unmet outcome expectation.\n",
       "\n",
       "6. **Job Statement:** Create and share personal fashion content with a community of like-minded individuals.\n",
       "**Focus Market:** Disruptive Growth\n",
       "**Reasoning:** Customers want to create and share personal fashion content, but may not have the platform or audience to do so. A digital magazine that allows customers to create and share content can disrupt the traditional fashion media landscape and make fashion more accessible and inclusive.\n",
       "\n",
       "7. **Job Statement:** Get personalized fashion recommendations based on my style and preferences.\n",
       "**Focus Market:** Related Jobs\n",
       "**Reasoning:** Customers want to get personalized fashion recommendations, but may not have the time or resources to research and find the right products. A digital magazine that offers personalized recommendations can help customers achieve this outcome expectation by providing tailored suggestions based on their style and preferences.\n",
       "\n",
       "8. **Job Statement:** Learn about sustainable and eco-friendly fashion practices through educational content.\n",
       "**Focus Market:** Core Growth\n",
       "**Reasoning:** Customers want to learn about sustainable and eco-friendly fashion practices, but may not have the resources or knowledge to make informed decisions. A digital magazine that offers educational content can meet this unmet outcome expectation and help customers make more sustainable choices.\n",
       "\n",
       "9. **Job Statement:** Get inspiration for fashion-related DIY projects and tutorials through step-by-step content.\n",
       "**Focus Market:** Core Growth\n",
       "**Reasoning:** Customers want to get inspiration for fashion-related DIY projects and tutorials, but may not have the skills or resources to create their own content. A digital magazine that offers step-by-step content can meet this unmet outcome expectation and help customers achieve their DIY goals.\n",
       "\n",
       "10. **Job Statement:** Stay connected with fashion communities and events through a social platform.\n",
       "**Focus Market:** Disruptive Growth\n",
       "**Reasoning:** Customers want to stay connected with fashion communities and events, but may not have a platform to do so. A digital magazine that offers a social platform can disrupt the traditional fashion media landscape and make fashion more accessible and inclusive.\n",
       "\n",
       "These jobs to be done highlight the various ways in which customers want to interact with fashion content, from exploring trends and styles to creating and sharing personal content. By understanding these jobs, a digital magazine can develop solutions that meet the unmet outcome expectations of its customers and stay ahead of the competition."
      ],
      "text/plain": [
       "<IPython.core.display.Markdown object>"
      ]
     },
     "metadata": {},
     "output_type": "display_data"
    }
   ],
   "source": [
    "display(Markdown(r2))"
   ]
  }
 ],
 "metadata": {
  "interpreter": {
   "hash": "c7d7b4a72a7ab1202c1aa1d2d4ccffc9579def15d15f416b3055c17297e196fd"
  },
  "kernelspec": {
   "display_name": "Python 3.12.3 64-bit (system)",
   "language": "python",
   "name": "python3"
  },
  "language_info": {
   "codemirror_mode": {
    "name": "ipython",
    "version": 3
   },
   "file_extension": ".py",
   "mimetype": "text/x-python",
   "name": "python",
   "nbconvert_exporter": "python",
   "pygments_lexer": "ipython3",
   "version": "3.12.3"
  },
  "orig_nbformat": 4
 },
 "nbformat": 4,
 "nbformat_minor": 2
}
