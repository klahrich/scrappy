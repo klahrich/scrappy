{
 "cells": [
  {
   "cell_type": "code",
   "execution_count": 1,
   "metadata": {},
   "outputs": [],
   "source": [
    "%load_ext autoreload\n",
    "%autoreload 2"
   ]
  },
  {
   "cell_type": "code",
   "execution_count": 2,
   "metadata": {},
   "outputs": [],
   "source": [
    "from scrappy.founder import Founder, Investor\n",
    "import logging\n",
    "from IPython.display import display, Markdown"
   ]
  },
  {
   "cell_type": "code",
   "execution_count": 3,
   "metadata": {},
   "outputs": [],
   "source": [
    "founder1 = Founder(theme=\"Payment APIs for businesses in Canada\")\n",
    "#founder2 = Founder(theme=Theme.gocrazy())\n",
    "team = FoundingTeam([founder1, founder2])\n",
    "\n",
    "investor = Investor(InvestorType.FDV)\n",
    "\n",
    "class Feasibility:\n",
    "\n",
    "\n",
    "class FDV:\n",
    "    feasibility: Feasibility\n",
    "    desirab\n"
   ]
  },
  {
   "cell_type": "code",
   "execution_count": 5,
   "metadata": {},
   "outputs": [],
   "source": [
    "r = founder.ask_perplexity('What is latest news about French politics')"
   ]
  },
  {
   "cell_type": "code",
   "execution_count": 16,
   "metadata": {},
   "outputs": [
    {
     "data": {
      "text/plain": [
       "\"The latest news about French politics includes several key developments:\\n\\n1. **Snap Elections**: French President Emmanuel Macron has announced snap elections for June 30 and July 7, citing the need to prevent the rise of the far right in the 2027 presidential vote.\\n\\n2. **Far-Right Concerns**: The far-right National Rally (RN) party, led by Marine Le Pen, is gaining strength, causing concerns among environmentalists and left-wing groups. Protests against the far right have taken place across France, with an estimated 250,000 to 640,000 attendees.\\n\\n3. **Left-Wing Alliance**: Former President François Hollande has made a surprise comeback, announcing his candidacy in the snap elections to support the left-wing alliance. This move is seen as a significant boost to the left's chances.\\n\\n4. **Economic Debates**: The far-right National Rally has faced criticism over its spending plans, with opponents claiming they would harm the economy. The party has defended its proposals, promising to boost household finances.\\n\\n5. **Leadership Crisis**: The French right is experiencing turmoil, with Eric Ciotti being ousted as the leader of Les Républicains due to his proposed alliance with the National Rally.\\n\\nThese developments highlight the intense political landscape in France ahead of the snap elections.\""
      ]
     },
     "execution_count": 16,
     "metadata": {},
     "output_type": "execute_result"
    }
   ],
   "source": [
    "r.choices[0].message.content"
   ]
  },
  {
   "cell_type": "code",
   "execution_count": null,
   "metadata": {},
   "outputs": [],
   "source": [
    "founder.start()\n",
    "\n",
    "\n",
    "investable = False\n",
    "i = 1\n",
    "\n",
    "while (not investable) and (i <= 3):\n",
    "    print(f'Iteration {i}')\n",
    "    \n",
    "    pitch = founder.pitch()\n",
    "\n",
    "    investor_feedback = investor.review(pitch) # GPT4\n",
    "    investable = investor_feedback.investable\n",
    "\n",
    "    print(f'Score: {investor_feedback.score}')\n",
    "\n",
    "    print(investor_feedback.summary)\n",
    "\n",
    "    if not investable:\n",
    "        founder.improve_pitch(investor_feedback) # Perplexity\n",
    "\n",
    "    i += 1"
   ]
  },
  {
   "cell_type": "code",
   "execution_count": 5,
   "metadata": {},
   "outputs": [
    {
     "data": {
      "text/markdown": [
       "### **Proposed Idea: MaplePay - The Premier Payment API Platform for Canadian Businesses**\n",
       "\n",
       "### **Idea Overview:**\n",
       "MaplePay is a comprehensive and user-friendly payment API platform tailored specifically for Canadian businesses. It offers competitive pricing, easy integration, robust security, and exceptional customer support to meet the unique needs of SMEs, startups, and e-commerce companies in Canada.\n",
       "\n",
       "### **1. Desirable: Meeting Real Market Needs**\n",
       "\n",
       "#### **Identified Pain Points and Needs:**\n",
       "- **High Transaction Fees:** Many Canadian businesses struggle with the high transaction fees charged by current payment solutions, particularly for international transactions.\n",
       "- **Complex Integration:** Existing solutions often present significant technical barriers, making them difficult to implement without extensive developer resources.\n",
       "- **Insufficient Support:** Inadequate customer support from existing providers leaves businesses frustrated and impacts their operations.\n",
       "- **Security Concerns:** Businesses need robust security and fraud prevention measures to protect sensitive data and maintain compliance.\n",
       "\n",
       "#### **Value Proposition:**\n",
       "- **Lower Fees:** Competitive and transparent pricing (2.5% + $0.25 per domestic transaction), with reduced rates for international transactions.\n",
       "- **Ease of Integration:** No-code/low-code tools and comprehensive documentation make integration straightforward, even for non-technical users.\n",
       "- **Advanced Security:** Top-tier security measures including AES-256 encryption, multi-factor authentication (MFA), and compliance with PCI-DSS and PIPEDA standards.\n",
       "- **Exceptional Customer Support:** 24/7 multi-channel customer support and dedicated account managers ensure quick resolution of issues and proactive service.\n",
       "\n",
       "### **2. Viable: Strong Market Opportunity**\n",
       "\n",
       "#### **Market Size and Growth:**\n",
       "- **Total Addressable Market (TAM):** \n",
       "  - CAD 2.5 billion annually, based on extensive data on digital payment transactions and e-commerce market value in Canada.\n",
       "- **Serviceable Obtainable Market (SOM):**\n",
       "  - CAD 30 million annually, focusing on SMEs, startups, and growing e-commerce businesses.\n",
       "- **Growth Potential:** The Canadian e-commerce market is expanding at a CAGR of 14%, indicating strong demand for effective and affordable payment solutions.\n",
       "\n",
       "#### **Revenue Model:**\n",
       "- **Transaction Fees:** Primary revenue from transaction fees.\n",
       "- **Subscription Plans:** Additional revenue from tiered subscription plans (Basic: CAD 25/month, Premium: CAD 75/month) offering advanced features.\n",
       "- **Freemium Model:** Attracts a broad range of customers, with potential upsell to premium plans.\n",
       "\n",
       "### **3. Feasible: Robust and Scalable Technology**\n",
       "\n",
       "#### **Technology Stack:**\n",
       "- **Backend:** Node.js with Express.js for high performance and scalability.\n",
       "- **Frontend:** React.js with Redux for a dynamic and user-friendly interface.\n",
       "- **Database:** PostgreSQL for relational data and MongoDB for unstructured data.\n",
       "- **Security:** Advanced fraud detection, AES-256 encryption, TLS 1.2 or higher, and compliance with all relevant standards.\n",
       "- **Cloud Infrastructure:** Amazon Web Services (AWS) for robust, scalable, and secure cloud services.\n",
       "- **DevOps:** Docker, Kubernetes, Jenkins/GitLab CI for continuous integration and deployment.\n",
       "\n",
       "#### **Pilot Testing Results:**\n",
       "- **High Satisfaction:** 4.8/5 customer satisfaction with customer support.\n",
       "- **Successful Integration:** 90% developer satisfaction on ease of integration.\n",
       "- **Reliable Performance:** 99.7% transaction success rate.\n",
       "\n",
       "#### **Scalability Plan:**\n",
       "- **Customer Support:** Scalable 24/7 multi-channel support structure with planned growth in team size and technological support (AI-powered chatbots).\n",
       "- **Strategic Partnerships:** Ongoing negotiations with key e-commerce platforms (Shopify), financial institutions (RBC, TD Bank), and technology providers (AWS).\n",
       "- **Continuous Improvement:** Pilot testing feedback is driving UI enhancements and feature improvements, ensuring MaplePay evolves with customer needs.\n",
       "\n",
       "### **Strategic Partnerships:**\n",
       "- **Shopify:** Advanced discussions for seamless integration and joint marketing efforts to reach Shopify’s vast merchant network.\n",
       "- **RBC and TD Bank:** Early and mid-stage discussions respectively, focusing on offering MaplePay to business banking clients and developing white-label solutions.\n",
       "- **AWS:** Existing partnership for cloud infrastructure, with plans for expanded collaboration on advanced services and joint marketing initiatives.\n",
       "\n",
       "### **Conclusion:**\n",
       "\n",
       "MaplePay is positioned to revolutionize the Canadian payment API market by addressing critical pain points and leveraging a robust technological foundation. Its desirability is validated through extensive market research and pilot testing, its viability is demonstrated by a clear and attractive business model in a growing market, and its feasibility is ensured by a scalable and secure technology stack. MaplePay is poised to deliver exceptional value to Canadian SMEs, startups, and e-commerce businesses, making digital transactions seamless, secure, and affordable.\n"
      ],
      "text/plain": [
       "<IPython.core.display.Markdown object>"
      ]
     },
     "metadata": {},
     "output_type": "display_data"
    }
   ],
   "source": [
    "display(Markdown(pitch))"
   ]
  }
 ],
 "metadata": {
  "interpreter": {
   "hash": "c7d7b4a72a7ab1202c1aa1d2d4ccffc9579def15d15f416b3055c17297e196fd"
  },
  "kernelspec": {
   "display_name": "Python 3.12.3 64-bit (system)",
   "language": "python",
   "name": "python3"
  },
  "language_info": {
   "codemirror_mode": {
    "name": "ipython",
    "version": 3
   },
   "file_extension": ".py",
   "mimetype": "text/x-python",
   "name": "python",
   "nbconvert_exporter": "python",
   "pygments_lexer": "ipython3",
   "version": "3.12.3"
  },
  "orig_nbformat": 4
 },
 "nbformat": 4,
 "nbformat_minor": 2
}
