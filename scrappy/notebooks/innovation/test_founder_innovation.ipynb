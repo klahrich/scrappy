{
 "cells": [
  {
   "cell_type": "code",
   "execution_count": 1,
   "metadata": {},
   "outputs": [],
   "source": [
    "%load_ext autoreload\n",
    "%autoreload 2"
   ]
  },
  {
   "cell_type": "code",
   "execution_count": 2,
   "metadata": {},
   "outputs": [],
   "source": [
    "from scrappy.founder import Founder\n",
    "from scrappy.utils import RenderJSON, print_json\n",
    "from scrappy.jtbd import JTBD\n",
    "import json\n",
    "from IPython.display import display, Markdown"
   ]
  },
  {
   "cell_type": "code",
   "execution_count": 4,
   "metadata": {},
   "outputs": [],
   "source": [
    "jtbds = []\n",
    "\n",
    "for i in range(7):\n",
    "    with open(f\"jtbd_{i}.json\", \"r\") as f:\n",
    "        jtbd = json.load(f)\n",
    "        jtbds.append(JTBD(**jtbd))"
   ]
  },
  {
   "cell_type": "code",
   "execution_count": 5,
   "metadata": {},
   "outputs": [
    {
     "data": {
      "text/plain": [
       "JTBD(job_statement='Identify and prioritize potential innovation opportunities.', focus_market=FocusMarket(type='Core growth', reasoning=\"Ventures companies are constantly looking for new ideas to drive growth and innovation. This job statement belongs to the core growth market because it's about perfecting the current paradigm of innovation pipeline management.\"), outcome_expectations=[OutcomeExpectation(expectation_statement='Increase the likelihood of identifying high-impact innovation opportunities.', outcome_type='Customer desired outcome'), OutcomeExpectation(expectation_statement='Minimize the time it takes to evaluate potential innovation opportunities.', outcome_type='Customer undesired outcome'), OutcomeExpectation(expectation_statement='Increase the confidence in the prioritization of innovation opportunities.', outcome_type='Customer desired outcome')])"
      ]
     },
     "execution_count": 5,
     "metadata": {},
     "output_type": "execute_result"
    }
   ],
   "source": [
    "jtbds[0]"
   ]
  },
  {
   "cell_type": "code",
   "execution_count": 6,
   "metadata": {},
   "outputs": [
    {
     "name": "stdout",
     "output_type": "stream",
     "text": [
      "{\n",
      "    \"job_statement\": \"Identify and prioritize potential innovation opportunities.\",\n",
      "    \"focus_market\": {\n",
      "        \"type\": \"Core growth\",\n",
      "        \"reasoning\": \"Ventures companies are constantly looking for new ideas to drive growth and innovation. This job statement belongs to the core growth market because it's about perfecting the current paradigm of innovation pipeline management.\"\n",
      "    },\n",
      "    \"outcome_expectations\": [\n",
      "        {\n",
      "            \"expectation_statement\": \"Increase the likelihood of identifying high-impact innovation opportunities.\",\n",
      "            \"outcome_type\": \"Customer desired outcome\"\n",
      "        },\n",
      "        {\n",
      "            \"expectation_statement\": \"Minimize the time it takes to evaluate potential innovation opportunities.\",\n",
      "            \"outcome_type\": \"Customer undesired outcome\"\n",
      "        },\n",
      "        {\n",
      "            \"expectation_statement\": \"Increase the confidence in the prioritization of innovation opportunities.\",\n",
      "            \"outcome_type\": \"Customer desired outcome\"\n",
      "        }\n",
      "    ]\n",
      "}\n"
     ]
    }
   ],
   "source": [
    "print_json(jtbds[0])"
   ]
  },
  {
   "cell_type": "code",
   "execution_count": 7,
   "metadata": {},
   "outputs": [],
   "source": [
    "founder = Founder()"
   ]
  },
  {
   "cell_type": "code",
   "execution_count": 8,
   "metadata": {},
   "outputs": [],
   "source": [
    "problem_statements = [founder.problem_statement(j) for j in jtbds]"
   ]
  },
  {
   "cell_type": "code",
   "execution_count": 9,
   "metadata": {},
   "outputs": [
    {
     "name": "stdout",
     "output_type": "stream",
     "text": [
      "{\n",
      "    \"problem\": \"Companies struggle to efficiently identify which innovation opportunities will have the highest impact, leading to resources being allocated to less impactful projects and missing out on significant growth opportunities. Additionally, the process of evaluating innovation opportunities is time-consuming and complex, causing delays in decision-making and potentially losing the first-mover advantage. Decision-makers also lack confidence in their prioritization due to insufficient data or unreliable evaluation criteria, resulting in decision paralysis or suboptimal prioritization.\",\n",
      "    \"solution\": \"An AI-Driven Innovation Management Platform that utilizes machine learning algorithms to analyze industry trends, business performance data, and market signals to identify high-impact innovation opportunities. It provides actionable insights and predictive analytics to prioritize these opportunities. The platform streamlines the evaluation process using natural language processing (NLP) and automated data collection, ranking opportunities in real-time with a scoring system based on predefined criteria. It also develops confidence metrics to quantify the reliability and potential impact of each opportunity, presented through intuitive dashboards, and integrates decision support tools to simulate various scenarios and project outcomes. Additionally, it facilitates collaboration among team members through a centralized platform for feedback and discussions, continually refining the evaluation and prioritization process.\"\n",
      "}\n",
      "{\n",
      "    \"problem\": \"The current innovation pipeline processes are not efficient, often leading to time and resource wastage. Manual tracking and project management tools fall short in handling the complexities of innovation pipelines. Additionally, bottlenecks in the innovation pipeline can cause significant delays, resulting in stalled projects and lost opportunities. Innovation activities often lack alignment with overall business objectives, which can result in pursuing projects that do not contribute to strategic goals.\",\n",
      "    \"solution\": \"An Integrated Innovation Pipeline Management System (IIPMS) that automates every phase of the innovation process from idea generation to execution, utilizes AI-driven analytics to monitor and resolve bottlenecks, integrates a strategic alignment module to map innovation initiatives to business objectives, supports collaboration among cross-functional teams with role-based access, and provides comprehensive dashboards and reporting for a holistic view of the innovation pipeline.\"\n",
      "}\n",
      "{\n",
      "    \"problem\": \"Traditional innovation pipeline management processes are slow due to manual tasks and lack of streamlined workflows, leading to reduced responsiveness to market opportunities. Additionally, these processes are costly and inefficient, resulting in higher labor costs and resource allocation inefficiencies. As innovation initiatives grow, traditional management systems struggle to scale efficiently, causing bottlenecks and increased complexity.\",\n",
      "    \"solution\": \"An AI-driven automated innovation pipeline management platform that automates every stage of the innovation pipeline, from ideation to execution. The platform integrates AI and machine learning to predict the potential success of new initiatives, route tasks based on workload and expertise, and automate documentation and reporting. It includes cost efficiency tools like an ROI calculator and automation to reduce manual tasks, and scalability features such as cloud-based architecture and flexible user roles. Real-time analytics and reporting provide insights into the status and progress of the innovation pipeline.\"\n",
      "}\n",
      "{\n",
      "    \"problem\": \"Many companies struggle to ensure their innovation pipeline management is aligned with existing business processes, leading to inefficiencies and misalignment between innovation initiatives and strategic business goals. Additionally, implementing new innovation pipeline management tools can disrupt existing workflows and processes, causing friction and resistance among employees. Furthermore, innovation activities are often siloed, with limited visibility and transparency across the organization, which hampers collaboration and informed decision-making.\",\n",
      "    \"solution\": \"The Integrated Innovation Pipeline Management Platform (IIPMP) addresses these issues by offering seamless integration with existing tools and processes, customizable workflows and automation, a centralized dashboard and reporting, role-based access and collaboration tools, and comprehensive change management and training programs. This platform ensures alignment with strategic goals, minimizes disruption, and enhances visibility across the organization.\"\n",
      "}\n",
      "{\n",
      "    \"problem\": \"Many organizations struggle to encourage employees to think creatively and contribute new ideas, leading to a stagnant innovation pipeline. Additionally, employees often resist new initiatives and changes, which can hinder the adoption of innovative practices and reduce the overall effectiveness of innovation efforts. Engagement levels in innovation activities are typically low, resulting in missed opportunities for harnessing the collective creativity and insights of the workforce.\",\n",
      "    \"solution\": \"The Innovation Culture Platform (ICP) addresses these issues by providing a comprehensive suite of tools and features. It includes an Idea Generation and Crowdsourcing Tool with gamification elements to incentivize participation, AI to categorize and prioritize ideas, Change Management and Training Modules to ease transitions and reduce resistance, Employee Engagement and Communication Channels for open discussion and feedback, a Recognition and Reward System to acknowledge contributions, and Innovation Metrics and Reporting to track and celebrate progress. This holistic approach ensures that organizations can foster a supportive culture for innovation, effectively transforming their innovation paradigms.\"\n",
      "}\n",
      "{\n",
      "    \"problem\": \"Inaccurate or incomplete metrics lead to incorrect assessments of the innovation pipeline's effectiveness, making it challenging for companies to make informed decisions. Additionally, the process of measuring and evaluating the innovation pipeline can be time-consuming, often involving manual data collection and analysis, which slows down the overall innovation process. Decision-makers often lack confidence in the metrics and evaluation methods used, hindering their ability to ensure that the innovation pipeline management is effective.\",\n",
      "    \"solution\": \"Develop an Intelligent Innovation Pipeline Analytics Platform (IIPAP) that automates data collection and integration, utilizes advanced analytics and machine learning, offers real-time dashboards and reporting, includes benchmarking and best practices, and provides confidence metrics and decision support. This platform will streamline the measurement and evaluation process, provide accurate and actionable insights, and enhance decision-makers' confidence in the effectiveness of their innovation pipeline management.\"\n",
      "}\n",
      "{\n",
      "    \"problem\": \"Employees often lack the necessary skills and knowledge to manage the innovation pipeline effectively, leading to inefficiencies and suboptimal outcomes. Traditional training methods can be time-consuming and resource-intensive, slowing down the process of upskilling employees. Without adequate training and support, employees may feel uncertain about their abilities to manage the innovation pipeline, which can impact their performance and the overall success of innovation initiatives.\",\n",
      "    \"solution\": \"The Innovation Pipeline Academy (IPA) offers a comprehensive solution to these problems. It includes a modular e-learning platform with a structured curriculum covering all aspects of innovation pipeline management, on-demand webinars and workshops led by industry experts, personalized learning paths and certification programs, an integrated learning management system (LMS) with analytics, and a mentorship and community support program. This approach ensures that employees gain the necessary skills and confidence to manage the innovation pipeline effectively, reducing inefficiencies and improving outcomes.\"\n",
      "}\n"
     ]
    }
   ],
   "source": [
    "for ps in problem_statements:\n",
    "    print_json(ps)"
   ]
  },
  {
   "cell_type": "code",
   "execution_count": 10,
   "metadata": {},
   "outputs": [],
   "source": [
    "existing_solutions = founder.search_solutions(problem_statements[0])"
   ]
  },
  {
   "cell_type": "code",
   "execution_count": 11,
   "metadata": {},
   "outputs": [
    {
     "name": "stdout",
     "output_type": "stream",
     "text": [
      "{\n",
      "    \"provider\": \"Innovation360\",\n",
      "    \"summary\": \"Innovation360 offers a proprietary innovation management platform that helps companies identify, evaluate, and prioritize innovation opportunities. The platform uses a combination of machine learning and human expertise to provide data-driven insights and recommendations.\",\n",
      "    \"limitations\": [\n",
      "        \"The platform may require significant upfront investment\",\n",
      "        \"May not be suitable for small or medium-sized businesses with limited resources\"\n",
      "    ]\n",
      "}\n",
      "\n",
      "{\n",
      "    \"provider\": \"Ideascale\",\n",
      "    \"summary\": \"Ideascale is a crowdsourcing platform that enables companies to collect, evaluate, and prioritize innovation ideas from employees, customers, and partners. The platform uses a scoring system to rank ideas based on their potential impact and feasibility.\",\n",
      "    \"limitations\": [\n",
      "        \"May not be suitable for companies with complex or highly regulated innovation processes\",\n",
      "        \"May require significant effort to integrate with existing systems\"\n",
      "    ]\n",
      "}\n",
      "\n",
      "{\n",
      "    \"provider\": \"Spigit\",\n",
      "    \"summary\": \"Spigit is a social innovation platform that enables companies to crowdsource and prioritize innovation ideas from employees, customers, and partners. The platform uses a combination of machine learning and human expertise to evaluate and prioritize ideas.\",\n",
      "    \"limitations\": [\n",
      "        \"The platform may require significant upfront investment\",\n",
      "        \"May not be suitable for companies with limited resources or complex innovation processes\"\n",
      "    ]\n",
      "}\n",
      "\n",
      "{\n",
      "    \"provider\": \"Planbox\",\n",
      "    \"summary\": \"Planbox is a cloud-based innovation management platform that enables companies to collect, evaluate, and prioritize innovation ideas from employees, customers, and partners. The platform uses a combination of machine learning and human expertise to provide data-driven insights and recommendations.\",\n",
      "    \"limitations\": [\n",
      "        \"The platform may require significant upfront investment\",\n",
      "        \"May not be suitable for companies with limited resources or complex innovation processes\"\n",
      "    ]\n",
      "}\n",
      "\n",
      "{\n",
      "    \"provider\": \"Inno360\",\n",
      "    \"summary\": \"Inno360 is a cloud-based innovation management platform that enables companies to identify, evaluate, and prioritize innovation opportunities. The platform uses a combination of machine learning and human expertise to provide data-driven insights and recommendations.\",\n",
      "    \"limitations\": [\n",
      "        \"The platform may require significant upfront investment\",\n",
      "        \"May not be suitable for companies with limited resources or complex innovation processes\"\n",
      "    ]\n",
      "}\n",
      "\n",
      "{\n",
      "    \"provider\": \"Cognizant\",\n",
      "    \"summary\": \"Cognizant is a consulting firm that offers innovation management services, including idea generation, evaluation, and prioritization. The firm uses a combination of human expertise and machine learning to provide data-driven insights and recommendations.\",\n",
      "    \"limitations\": [\n",
      "        \"The firm may require significant upfront investment\",\n",
      "        \"May not be suitable for companies with limited resources or complex innovation processes\"\n",
      "    ]\n",
      "}\n",
      "\n",
      "{\n",
      "    \"provider\": \"Accenture\",\n",
      "    \"summary\": \"Accenture is a consulting firm that offers innovation management services, including idea generation, evaluation, and prioritization. The firm uses a combination of human expertise and machine learning to provide data-driven insights and recommendations.\",\n",
      "    \"limitations\": [\n",
      "        \"The firm may require significant upfront investment\",\n",
      "        \"May not be suitable for companies with limited resources or complex innovation processes\"\n",
      "    ]\n",
      "}\n",
      "\n",
      "{\n",
      "    \"provider\": \"Deloitte\",\n",
      "    \"summary\": \"Deloitte is a consulting firm that offers innovation management services, including idea generation, evaluation, and prioritization. The firm uses a combination of human expertise and machine learning to provide data-driven insights and recommendations.\",\n",
      "    \"limitations\": [\n",
      "        \"The firm may require significant upfront investment\",\n",
      "        \"May not be suitable for companies with limited resources or complex innovation processes\"\n",
      "    ]\n",
      "}\n",
      "\n",
      "{\n",
      "    \"provider\": \"KPMG\",\n",
      "    \"summary\": \"KPMG is a consulting firm that offers innovation management services, including idea generation, evaluation, and prioritization. The firm uses a combination of human expertise and machine learning to provide data-driven insights and recommendations.\",\n",
      "    \"limitations\": [\n",
      "        \"The firm may require significant upfront investment\",\n",
      "        \"May not be suitable for companies with limited resources or complex innovation processes\"\n",
      "    ]\n",
      "}\n",
      "\n",
      "{\n",
      "    \"provider\": \"Bain & Company\",\n",
      "    \"summary\": \"Bain & Company is a consulting firm that offers innovation management services, including idea generation, evaluation, and prioritization. The firm uses a combination of human expertise and machine learning to provide data-driven insights and recommendations.\",\n",
      "    \"limitations\": [\n",
      "        \"The firm may require significant upfront investment\",\n",
      "        \"May not be suitable for companies with limited resources or complex innovation processes\"\n",
      "    ]\n",
      "}\n",
      "\n"
     ]
    }
   ],
   "source": [
    "for s in existing_solutions:\n",
    "    print_json(s)\n",
    "    print('')"
   ]
  },
  {
   "cell_type": "code",
   "execution_count": 12,
   "metadata": {},
   "outputs": [],
   "source": [
    "rs = founder.compare_solution(problem_statements[0], existing_solutions)"
   ]
  },
  {
   "cell_type": "code",
   "execution_count": 13,
   "metadata": {},
   "outputs": [
    {
     "name": "stdout",
     "output_type": "stream",
     "text": [
      "{\n",
      "    \"is_differentiated\": true,\n",
      "    \"explanation\": [\n",
      "        \"AI-Driven Predictive Analytics and Real-Time Prioritization: Unlike many existing platforms that primarily focus on crowdsourcing and manual evaluation, our solution leverages advanced machine learning algorithms and NLP to provide predictive analytics and real-time prioritization of innovation opportunities. This significantly boosts speed and accuracy in identifying high-impact projects.\",\n",
      "        \"Confidence Metrics and Scenario Simulations: Our platform develops confidence metrics to quantify the reliability and potential impact of each opportunity, coupled with decision support tools that simulate various scenarios and project outcomes. This provides decision-makers with a higher level of confidence and actionable insights, a feature not commonly found in competing solutions.\",\n",
      "        \"Centralized Collaboration and Continuous Refinement: The platform facilitates collaborative efforts among team members through a centralized feedback mechanism, which continually refines the evaluation and prioritization processes. This dimension of ongoing improvement and collaboration ensures that the innovation pipeline remains dynamic and responsive, setting it apart from more static solutions.\"\n",
      "    ]\n",
      "}\n"
     ]
    }
   ],
   "source": [
    "print_json(rs)"
   ]
  },
  {
   "cell_type": "code",
   "execution_count": 14,
   "metadata": {},
   "outputs": [],
   "source": [
    "s = founder.ask(f\"\"\"\n",
    "How are these features different from what {existing_solutions[5].provider} offers?\n",
    "            \n",
    "{rs.explanation}\n",
    "\"\"\")"
   ]
  },
  {
   "cell_type": "code",
   "execution_count": 15,
   "metadata": {},
   "outputs": [
    {
     "data": {
      "text/markdown": [
       "### How are these features different from what Cognizant offers?\n",
       "\n",
       "1. **AI-Driven Predictive Analytics and Real-Time Prioritization:**\n",
       "   - **Difference:** While Cognizant uses a combination of human expertise and machine learning, their solutions tend to emphasize consulting services with AI as a supplementary tool. Our solution, on the other hand, places advanced machine learning and NLP at the core of its offering, enabling predictive analytics and real-time prioritization to enhance speed and accuracy more significantly. This structured, data-centric approach is designed to operate autonomously without requiring the same level of ongoing human intervention.\n",
       "\n",
       "2. **Confidence Metrics and Scenario Simulations:**\n",
       "   - **Difference:** Cognizant provides data-driven insights and recommendations but does not explicitly focus on confidence metrics or scenario simulation tools. Our platform quantifies the reliability and potential impact of opportunities through innovative confidence metrics and includes decision support systems that simulate various scenarios. This allows decision-makers to gain actionable insights and enhances their confidence in making strategic decisions, a feature that extends beyond Cognizant's typical offerings.\n",
       "\n",
       "3. **Centralized Collaboration and Continuous Refinement:**\n",
       "   - **Difference:** Cognizant's approach heavily relies on consulting engagements where experts periodically review and refine processes. In contrast, our platform offers an integrated, automated method for centralized team collaboration and continuous process refinement. This ensures that feedback and improvements happen in real-time and are seamlessly integrated into the workflow, fostering a more dynamic and responsive innovation pipeline. Our emphasis on built-in, continuous refinement mechanisms makes the process more resilient and adaptable compared to the more static, consulting-focused model of Cognizant."
      ],
      "text/plain": [
       "<IPython.core.display.Markdown object>"
      ]
     },
     "metadata": {},
     "output_type": "display_data"
    }
   ],
   "source": [
    "display(Markdown(s))"
   ]
  },
  {
   "cell_type": "code",
   "execution_count": null,
   "metadata": {},
   "outputs": [],
   "source": []
  }
 ],
 "metadata": {
  "kernelspec": {
   "display_name": "Python 3",
   "language": "python",
   "name": "python3"
  },
  "language_info": {
   "codemirror_mode": {
    "name": "ipython",
    "version": 3
   },
   "file_extension": ".py",
   "mimetype": "text/x-python",
   "name": "python",
   "nbconvert_exporter": "python",
   "pygments_lexer": "ipython3",
   "version": "3.12.3"
  }
 },
 "nbformat": 4,
 "nbformat_minor": 2
}
