{
 "cells": [
  {
   "cell_type": "code",
   "execution_count": 1,
   "metadata": {},
   "outputs": [],
   "source": [
    "%load_ext autoreload\n",
    "%autoreload 2"
   ]
  },
  {
   "cell_type": "code",
   "execution_count": 2,
   "metadata": {},
   "outputs": [],
   "source": [
    "from scrappy.innovator import Innovator\n",
    "from scrappy.utils import RenderJSON\n",
    "from IPython.display import display, Markdown"
   ]
  },
  {
   "cell_type": "code",
   "execution_count": 3,
   "metadata": {},
   "outputs": [],
   "source": [
    "innovator = Innovator('Automating and accelerating the innovation pipeline of a Ventures company')"
   ]
  },
  {
   "cell_type": "code",
   "execution_count": 10,
   "metadata": {},
   "outputs": [],
   "source": [
    "r = innovator.search_jtbd()"
   ]
  },
  {
   "cell_type": "code",
   "execution_count": 11,
   "metadata": {},
   "outputs": [
    {
     "data": {
      "text/markdown": [
       "After conducting research in forums and websites related to the field of Automating and Accelerating the Innovation Pipeline of a Ventures company, I've identified the following 7 jobs to be done:\n",
       "\n",
       "1. **Job Statement:** Identify and prioritize potential innovation opportunities.\n",
       "**Focus Market:** Core Growth\n",
       "**Why:** Ventures companies are constantly looking for new ideas to drive growth and innovation. This job statement belongs to the core growth market because it's about perfecting the current paradigm of innovation pipeline management.\n",
       "\n",
       "**Associated Outcome Expectations:**\n",
       "\n",
       "* Increase the likelihood of identifying high-impact innovation opportunities.\n",
       "* Minimize the time it takes to evaluate potential innovation opportunities.\n",
       "* Increase the confidence in the prioritization of innovation opportunities.\n",
       "\n",
       "2. **Job Statement:** Develop a robust innovation pipeline management process.\n",
       "**Focus Market:** Related Jobs\n",
       "**Why:** Ventures companies need to manage their innovation pipeline effectively to ensure that ideas are properly evaluated, prioritized, and executed. This job statement belongs to the related jobs market because it's about bundling solutions that achieve the outcome expectations of multiple main or related JTBDs.\n",
       "\n",
       "**Associated Outcome Expectations:**\n",
       "\n",
       "* Increase the efficiency of innovation pipeline management.\n",
       "* Minimize the risk of innovation pipeline bottlenecks.\n",
       "* Increase the alignment of innovation pipeline management with business objectives.\n",
       "\n",
       "3. **Job Statement:** Automate the innovation pipeline management process.\n",
       "**Focus Market:** Disruptive Growth\n",
       "**Why:** Ventures companies are looking for ways to streamline their innovation pipeline management process and reduce manual effort. This job statement belongs to the disruptive growth market because it's about expanding the solution space to accomplish different JTBDs.\n",
       "\n",
       "**Associated Outcome Expectations:**\n",
       "\n",
       "* Increase the speed of innovation pipeline management.\n",
       "* Minimize the cost of innovation pipeline management.\n",
       "* Increase the scalability of innovation pipeline management.\n",
       "\n",
       "4. **Job Statement:** Integrate innovation pipeline management with existing business processes.\n",
       "**Focus Market:** Core Growth\n",
       "**Why:** Ventures companies need to ensure that their innovation pipeline management process is integrated with their existing business processes to ensure seamless execution. This job statement belongs to the core growth market because it's about perfecting the current paradigm of innovation pipeline management.\n",
       "\n",
       "**Associated Outcome Expectations:**\n",
       "\n",
       "* Increase the alignment of innovation pipeline management with business processes.\n",
       "* Minimize the disruption caused by innovation pipeline management.\n",
       "* Increase the visibility of innovation pipeline management across the organization.\n",
       "\n",
       "5. **Job Statement:** Develop a culture of innovation within the organization.\n",
       "**Focus Market:** Related Jobs\n",
       "**Why:** Ventures companies need to foster a culture of innovation within their organization to encourage employees to think creatively and come up with new ideas. This job statement belongs to the related jobs market because it's about bundling solutions that achieve the outcome expectations of multiple main or related JTBDs.\n",
       "\n",
       "**Associated Outcome Expectations:**\n",
       "\n",
       "* Increase the number of innovative ideas generated within the organization.\n",
       "* Minimize the resistance to change within the organization.\n",
       "* Increase the engagement of employees in innovation activities.\n",
       "\n",
       "6. **Job Statement:** Measure and evaluate the effectiveness of innovation pipeline management.\n",
       "**Focus Market:** Core Growth\n",
       "**Why:** Ventures companies need to measure and evaluate the effectiveness of their innovation pipeline management process to ensure that it's meeting its objectives. This job statement belongs to the core growth market because it's about perfecting the current paradigm of innovation pipeline management.\n",
       "\n",
       "**Associated Outcome Expectations:**\n",
       "\n",
       "* Increase the accuracy of innovation pipeline management metrics.\n",
       "* Minimize the time it takes to measure and evaluate innovation pipeline management.\n",
       "* Increase the confidence in the effectiveness of innovation pipeline management.\n",
       "\n",
       "7. **Job Statement:** Provide training and support for innovation pipeline management.\n",
       "**Focus Market:** Core Growth\n",
       "**Why:** Ventures companies need to provide training and support for their employees to ensure that they have the necessary skills and knowledge to manage the innovation pipeline effectively. This job statement belongs to the core growth market because it's about perfecting the current paradigm of innovation pipeline management.\n",
       "\n",
       "**Associated Outcome Expectations:**\n",
       "\n",
       "* Increase the knowledge and skills of employees in innovation pipeline management.\n",
       "* Minimize the time it takes to provide training and support.\n",
       "* Increase the confidence of employees in their ability to manage the innovation pipeline.\n",
       "\n",
       "These jobs to be done are critical for Ventures companies to automate and accelerate their innovation pipeline, and by understanding these jobs, companies can develop solutions that meet the needs of their customers and drive growth and innovation."
      ],
      "text/plain": [
       "<IPython.core.display.Markdown object>"
      ]
     },
     "metadata": {},
     "output_type": "display_data"
    }
   ],
   "source": [
    "display(Markdown(r))"
   ]
  },
  {
   "cell_type": "code",
   "execution_count": 12,
   "metadata": {},
   "outputs": [],
   "source": [
    "jtbd = innovator.structure_jtbd(r)"
   ]
  },
  {
   "cell_type": "code",
   "execution_count": 13,
   "metadata": {},
   "outputs": [
    {
     "data": {
      "text/plain": [
       "list"
      ]
     },
     "execution_count": 13,
     "metadata": {},
     "output_type": "execute_result"
    }
   ],
   "source": [
    "type(jtbd)"
   ]
  },
  {
   "cell_type": "code",
   "execution_count": 14,
   "metadata": {},
   "outputs": [
    {
     "data": {
      "text/plain": [
       "7"
      ]
     },
     "execution_count": 14,
     "metadata": {},
     "output_type": "execute_result"
    }
   ],
   "source": [
    "len(jtbd)"
   ]
  },
  {
   "cell_type": "code",
   "execution_count": 15,
   "metadata": {},
   "outputs": [
    {
     "data": {
      "text/html": [
       "<div id=\"1acc9a20-7474-4e67-8795-2e55c2c07380\" style=\"height: 600px; width:100%;\"></div>"
      ]
     },
     "metadata": {},
     "output_type": "display_data"
    },
    {
     "data": {
      "application/javascript": "\n        require([\"https://rawgit.com/caldwell/renderjson/master/renderjson.js\"], function() {\n        document.getElementById('1acc9a20-7474-4e67-8795-2e55c2c07380').appendChild(renderjson({\"job_statement\":\"Identify and prioritize potential innovation opportunities.\",\"focus_market\":{\"type\":\"Core growth\",\"reasoning\":\"Ventures companies are constantly looking for new ideas to drive growth and innovation. This job statement belongs to the core growth market because it's about perfecting the current paradigm of innovation pipeline management.\"},\"outcome_expectations\":[{\"expectation_statement\":\"Increase the likelihood of identifying high-impact innovation opportunities.\",\"outcome_type\":\"Customer desired outcome\"},{\"expectation_statement\":\"Minimize the time it takes to evaluate potential innovation opportunities.\",\"outcome_type\":\"Customer undesired outcome\"},{\"expectation_statement\":\"Increase the confidence in the prioritization of innovation opportunities.\",\"outcome_type\":\"Customer desired outcome\"}]}))\n        });\n        "
     },
     "metadata": {},
     "output_type": "display_data"
    }
   ],
   "source": [
    "RenderJSON(jtbd[0].model_dump_json())"
   ]
  },
  {
   "cell_type": "code",
   "execution_count": 12,
   "metadata": {},
   "outputs": [
    {
     "data": {
      "text/plain": [
       "[OutcomeExpectation(expectation_statement='Increase the likelihood of staying up-to-date with the latest fashion trends.', outcome_type='Customer desired outcome'),\n",
       " OutcomeExpectation(expectation_statement='Minimize the time spent searching for fashion inspiration.', outcome_type='Customer undesired outcome'),\n",
       " OutcomeExpectation(expectation_statement='Increase customer engagement and loyalty through interactive content.', outcome_type='Provider desired outcome'),\n",
       " OutcomeExpectation(expectation_statement='Minimize the risk of losing customers to competitors who offer more engaging content.', outcome_type='Provider undesired outcome')]"
      ]
     },
     "execution_count": 12,
     "metadata": {},
     "output_type": "execute_result"
    }
   ],
   "source": [
    "jtbd[0].outcome_expectations"
   ]
  },
  {
   "cell_type": "code",
   "execution_count": 13,
   "metadata": {},
   "outputs": [
    {
     "data": {
      "text/plain": [
       "OutcomeExpectation(expectation_statement='Increase the likelihood of staying up-to-date with the latest fashion trends.', outcome_type='Customer desired outcome')"
      ]
     },
     "execution_count": 13,
     "metadata": {},
     "output_type": "execute_result"
    }
   ],
   "source": [
    "jtbd[0].outcome_expectations[0]"
   ]
  },
  {
   "cell_type": "code",
   "execution_count": 16,
   "metadata": {},
   "outputs": [],
   "source": [
    "for idx, j_model in enumerate(jtbd):\n",
    "    with open(f\"jtbd_{idx}.json\", \"w\") as f:\n",
    "        f.write(j_model.model_dump_json())"
   ]
  }
 ],
 "metadata": {
  "interpreter": {
   "hash": "c7d7b4a72a7ab1202c1aa1d2d4ccffc9579def15d15f416b3055c17297e196fd"
  },
  "kernelspec": {
   "display_name": "Python 3.12.3 64-bit (system)",
   "language": "python",
   "name": "python3"
  },
  "language_info": {
   "codemirror_mode": {
    "name": "ipython",
    "version": 3
   },
   "file_extension": ".py",
   "mimetype": "text/x-python",
   "name": "python",
   "nbconvert_exporter": "python",
   "pygments_lexer": "ipython3",
   "version": "3.12.3"
  },
  "orig_nbformat": 4
 },
 "nbformat": 4,
 "nbformat_minor": 2
}
