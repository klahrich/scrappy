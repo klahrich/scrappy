{
 "cells": [
  {
   "cell_type": "code",
   "execution_count": 2,
   "metadata": {},
   "outputs": [],
   "source": [
    "%load_ext autoreload\n",
    "%autoreload 2"
   ]
  },
  {
   "cell_type": "code",
   "execution_count": 3,
   "metadata": {},
   "outputs": [],
   "source": [
    "from scrappy.innovator import Innovator\n",
    "from scrappy.utils import RenderJSON\n",
    "from IPython.display import display, Markdown"
   ]
  },
  {
   "cell_type": "code",
   "execution_count": 4,
   "metadata": {},
   "outputs": [],
   "source": []
  },
  {
   "cell_type": "code",
   "execution_count": 5,
   "metadata": {},
   "outputs": [],
   "source": [
    "innovator = Innovator('Financial payments API providers for businesses in Canada')"
   ]
  },
  {
   "cell_type": "code",
   "execution_count": 6,
   "metadata": {},
   "outputs": [],
   "source": [
    "r = innovator.search_jtbd()"
   ]
  },
  {
   "cell_type": "code",
   "execution_count": 7,
   "metadata": {},
   "outputs": [
    {
     "data": {
      "text/markdown": [
       "After conducting research in forums and websites related to financial payments API providers for businesses in Canada, I've identified some potential jobs to be done. Here are the results:\n",
       "\n",
       "1. **Job Statement:** Integrate multiple payment gateways into a single platform for seamless transactions.\n",
       "**Focus Market:** Core Growth\n",
       "**Reasoning:** Many businesses in Canada struggle with integrating multiple payment gateways, leading to complexity and increased costs. A solution that simplifies this process would be a core growth innovation, perfecting the current paradigm.\n",
       "\n",
       "Associated Outcome Expectations:\n",
       "\n",
       "* Customer Desired Outcome: Increase the speed and efficiency of transactions.\n",
       "* Customer Undesired Outcome: Minimize the risk of payment failures and disputes.\n",
       "* Provider Desired Outcome: Increase customer satisfaction and loyalty.\n",
       "* Provider Undesired Outcome: Minimize the likelihood of technical issues and downtime.\n",
       "\n",
       "2. **Job Statement:** Provide real-time payment processing and settlement for e-commerce businesses.\n",
       "**Focus Market:** Core Growth\n",
       "**Reasoning:** E-commerce businesses in Canada require fast and reliable payment processing to ensure a seamless customer experience. A solution that provides real-time payment processing and settlement would be a core growth innovation, perfecting the current paradigm.\n",
       "\n",
       "Associated Outcome Expectations:\n",
       "\n",
       "* Customer Desired Outcome: Increase the speed and reliability of payment processing.\n",
       "* Customer Undesired Outcome: Minimize the risk of payment delays and failures.\n",
       "* Provider Desired Outcome: Increase customer satisfaction and loyalty.\n",
       "* Provider Undesired Outcome: Minimize the likelihood of technical issues and downtime.\n",
       "\n",
       "3. **Job Statement:** Offer a single API for multiple payment methods, including credit cards, e-checks, and cryptocurrencies.\n",
       "**Focus Market:** Related Jobs\n",
       "**Reasoning:** Businesses in Canada often require multiple payment methods to accommodate different customer preferences. A solution that offers a single API for multiple payment methods would be a related job innovation, bundling solutions that achieve the outcome expectations of more than one main or related JTBD.\n",
       "\n",
       "Associated Outcome Expectations:\n",
       "\n",
       "* Customer Desired Outcome: Increase the flexibility and convenience of payment options.\n",
       "* Customer Undesired Outcome: Minimize the risk of payment failures and disputes.\n",
       "* Provider Desired Outcome: Increase customer satisfaction and loyalty.\n",
       "* Provider Undesired Outcome: Minimize the likelihood of technical issues and downtime.\n",
       "\n",
       "4. **Job Statement:** Provide a secure and compliant payment processing solution for businesses in the Canadian financial services industry.\n",
       "**Focus Market:** Core Growth\n",
       "**Reasoning:** The Canadian financial services industry requires secure and compliant payment processing solutions to ensure regulatory compliance and protect sensitive customer information. A solution that provides a secure and compliant payment processing solution would be a core growth innovation, perfecting the current paradigm.\n",
       "\n",
       "Associated Outcome Expectations:\n",
       "\n",
       "* Customer Desired Outcome: Increase the security and compliance of payment processing.\n",
       "* Customer Undesired Outcome: Minimize the risk of data breaches and non-compliance.\n",
       "* Provider Desired Outcome: Increase customer trust and loyalty.\n",
       "* Provider Undesired Outcome: Minimize the likelihood of regulatory issues and fines.\n",
       "\n",
       "5. **Job Statement:** Offer a payment processing solution that integrates with existing accounting and ERP systems for seamless financial management.\n",
       "**Focus Market:** Core Growth\n",
       "**Reasoning:** Businesses in Canada often require payment processing solutions that integrate with their existing accounting and ERP systems to ensure seamless financial management. A solution that provides a payment processing solution that integrates with existing systems would be a core growth innovation, perfecting the current paradigm.\n",
       "\n",
       "Associated Outcome Expectations:\n",
       "\n",
       "* Customer Desired Outcome: Increase the efficiency and accuracy of financial management.\n",
       "* Customer Undesired Outcome: Minimize the risk of errors and discrepancies.\n",
       "* Provider Desired Outcome: Increase customer satisfaction and loyalty.\n",
       "* Provider Undesired Outcome: Minimize the likelihood of technical issues and downtime.\n",
       "\n",
       "6. **Job Statement:** Provide a payment processing solution that supports multiple currencies and languages for international businesses.\n",
       "**Focus Market:** Related Jobs\n",
       "**Reasoning:** International businesses in Canada require payment processing solutions that support multiple currencies and languages to accommodate global customers. A solution that provides a payment processing solution that supports multiple currencies and languages would be a related job innovation, bundling solutions that achieve the outcome expectations of more than one main or related JTBD.\n",
       "\n",
       "Associated Outcome Expectations:\n",
       "\n",
       "* Customer Desired Outcome: Increase the flexibility and convenience of international payment processing.\n",
       "* Customer Undesired Outcome: Minimize the risk of payment failures and disputes.\n",
       "* Provider Desired Outcome: Increase customer satisfaction and loyalty.\n",
       "* Provider Undesired Outcome: Minimize the likelihood of technical issues and downtime.\n",
       "\n",
       "These jobs to be done highlight the need for innovative payment processing solutions that cater to the specific needs of businesses in Canada. By understanding these jobs, financial payments API providers can develop solutions that meet the outcome expectations of their customers, leading to increased satisfaction and loyalty."
      ],
      "text/plain": [
       "<IPython.core.display.Markdown object>"
      ]
     },
     "metadata": {},
     "output_type": "display_data"
    }
   ],
   "source": [
    "display(Markdown(r))"
   ]
  },
  {
   "cell_type": "code",
   "execution_count": 8,
   "metadata": {},
   "outputs": [],
   "source": [
    "jtbd = innovator.structure_jtbd(r)"
   ]
  },
  {
   "cell_type": "code",
   "execution_count": 9,
   "metadata": {},
   "outputs": [
    {
     "data": {
      "text/plain": [
       "list"
      ]
     },
     "execution_count": 9,
     "metadata": {},
     "output_type": "execute_result"
    }
   ],
   "source": [
    "type(jtbd)"
   ]
  },
  {
   "cell_type": "code",
   "execution_count": 10,
   "metadata": {},
   "outputs": [
    {
     "data": {
      "text/plain": [
       "6"
      ]
     },
     "execution_count": 10,
     "metadata": {},
     "output_type": "execute_result"
    }
   ],
   "source": [
    "len(jtbd)"
   ]
  },
  {
   "cell_type": "code",
   "execution_count": 11,
   "metadata": {},
   "outputs": [
    {
     "data": {
      "text/html": [
       "<div id=\"50f935f0-888a-4acc-ac38-77cde0679a25\" style=\"height: 600px; width:100%;\"></div>"
      ]
     },
     "metadata": {},
     "output_type": "display_data"
    },
    {
     "data": {
      "application/javascript": "\n        require([\"https://rawgit.com/caldwell/renderjson/master/renderjson.js\"], function() {\n        document.getElementById('50f935f0-888a-4acc-ac38-77cde0679a25').appendChild(renderjson({\"job_statement\":\"Integrate multiple payment gateways into a single platform for seamless transactions.\",\"focus_market\":{\"type\":\"Core growth\",\"reasoning\":\"Many businesses in Canada struggle with integrating multiple payment gateways, leading to complexity and increased costs. A solution that simplifies this process would be a core growth innovation, perfecting the current paradigm.\"},\"outcome_expectations\":[{\"expectation_statement\":\"Increase the speed and efficiency of transactions.\",\"outcome_type\":\"Customer desired outcome\"},{\"expectation_statement\":\"Minimize the risk of payment failures and disputes.\",\"outcome_type\":\"Customer undesired outcome\"},{\"expectation_statement\":\"Increase customer satisfaction and loyalty.\",\"outcome_type\":\"Provider desired outcome\"},{\"expectation_statement\":\"Minimize the likelihood of technical issues and downtime.\",\"outcome_type\":\"Provider undesired outcome\"}]}))\n        });\n        "
     },
     "metadata": {},
     "output_type": "display_data"
    }
   ],
   "source": [
    "RenderJSON(jtbd[0].model_dump_json())"
   ]
  },
  {
   "cell_type": "code",
   "execution_count": 12,
   "metadata": {},
   "outputs": [],
   "source": [
    "for idx, j_model in enumerate(jtbd):\n",
    "    with open(f\"jtbd_{idx}.json\", \"w\") as f:\n",
    "        f.write(j_model.model_dump_json())"
   ]
  },
  {
   "cell_type": "code",
   "execution_count": 14,
   "metadata": {},
   "outputs": [
    {
     "data": {
      "text/plain": [
       "str"
      ]
     },
     "execution_count": 14,
     "metadata": {},
     "output_type": "execute_result"
    }
   ],
   "source": [
    "type(jtbd[0].model_dump_json())"
   ]
  },
  {
   "cell_type": "code",
   "execution_count": 13,
   "metadata": {},
   "outputs": [
    {
     "data": {
      "text/plain": [
       "JTBD(job_statement='Integrate multiple payment gateways into a single platform for seamless transactions.', focus_market=FocusMarket(type='Core growth', reasoning='Many businesses in Canada struggle with integrating multiple payment gateways, leading to complexity and increased costs. A solution that simplifies this process would be a core growth innovation, perfecting the current paradigm.'), outcome_expectations=[OutcomeExpectation(expectation_statement='Increase the speed and efficiency of transactions.', outcome_type='Customer desired outcome'), OutcomeExpectation(expectation_statement='Minimize the risk of payment failures and disputes.', outcome_type='Customer undesired outcome'), OutcomeExpectation(expectation_statement='Increase customer satisfaction and loyalty.', outcome_type='Provider desired outcome'), OutcomeExpectation(expectation_statement='Minimize the likelihood of technical issues and downtime.', outcome_type='Provider undesired outcome')])"
      ]
     },
     "execution_count": 13,
     "metadata": {},
     "output_type": "execute_result"
    }
   ],
   "source": [
    "jtbd[0]"
   ]
  },
  {
   "cell_type": "code",
   "execution_count": 12,
   "metadata": {},
   "outputs": [
    {
     "data": {
      "text/plain": [
       "[OutcomeExpectation(expectation_statement='Increase the likelihood of staying up-to-date with the latest fashion trends.', outcome_type='Customer desired outcome'),\n",
       " OutcomeExpectation(expectation_statement='Minimize the time spent searching for fashion inspiration.', outcome_type='Customer undesired outcome'),\n",
       " OutcomeExpectation(expectation_statement='Increase customer engagement and loyalty through interactive content.', outcome_type='Provider desired outcome'),\n",
       " OutcomeExpectation(expectation_statement='Minimize the risk of losing customers to competitors who offer more engaging content.', outcome_type='Provider undesired outcome')]"
      ]
     },
     "execution_count": 12,
     "metadata": {},
     "output_type": "execute_result"
    }
   ],
   "source": [
    "jtbd[0].outcome_expectations"
   ]
  },
  {
   "cell_type": "code",
   "execution_count": 13,
   "metadata": {},
   "outputs": [
    {
     "data": {
      "text/plain": [
       "OutcomeExpectation(expectation_statement='Increase the likelihood of staying up-to-date with the latest fashion trends.', outcome_type='Customer desired outcome')"
      ]
     },
     "execution_count": 13,
     "metadata": {},
     "output_type": "execute_result"
    }
   ],
   "source": [
    "jtbd[0].outcome_expectations[0]"
   ]
  },
  {
   "cell_type": "code",
   "execution_count": 24,
   "metadata": {},
   "outputs": [],
   "source": [
    "with open('farfetch.txt', 'r') as f:\n",
    "    farfetch_info = f.read()"
   ]
  },
  {
   "cell_type": "code",
   "execution_count": 26,
   "metadata": {},
   "outputs": [],
   "source": [
    "innovator.add_knowledge(farfetch_info)"
   ]
  },
  {
   "cell_type": "code",
   "execution_count": 29,
   "metadata": {},
   "outputs": [],
   "source": [
    "r2 = innovator.search_jtbd()"
   ]
  },
  {
   "cell_type": "code",
   "execution_count": 30,
   "metadata": {},
   "outputs": [
    {
     "data": {
      "text/markdown": [
       "After conducting research in forums and websites related to digital magazines and fashion products, I've identified some potential jobs to be done for customers in this field. Here are the results:\n",
       "\n",
       "1. **Job Statement:** Explore fashion trends and styles through interactive, short-form content.\n",
       "**Focus Market:** Core Growth\n",
       "**Reasoning:** Customers want to stay up-to-date with the latest fashion trends and styles, but traditional fashion magazines may not provide the level of interactivity and brevity they desire. A digital magazine that offers short-form, interactive content can meet this unmet outcome expectation.\n",
       "\n",
       "2. **Job Statement:** Discover new fashion products and brands through curated, visually appealing content.\n",
       "**Focus Market:** Core Growth\n",
       "**Reasoning:** Customers want to discover new fashion products and brands, but may not have the time or resources to scour the internet for inspiration. A digital magazine that curates visually appealing content can help customers achieve this outcome expectation.\n",
       "\n",
       "3. **Job Statement:** Get inspiration for fashion-related purchases through influencer-led content.\n",
       "**Focus Market:** Related Jobs\n",
       "**Reasoning:** Customers want to get inspiration for fashion-related purchases, but may not have a clear idea of what they're looking for. A digital magazine that features influencer-led content can help customers achieve this outcome expectation by providing relatable and trustworthy recommendations.\n",
       "\n",
       "4. **Job Statement:** Learn about fashion history and culture through engaging, bite-sized content.\n",
       "**Focus Market:** Core Growth\n",
       "**Reasoning:** Customers want to learn about fashion history and culture, but may not have the time or interest to read lengthy articles or books. A digital magazine that offers engaging, bite-sized content can meet this unmet outcome expectation.\n",
       "\n",
       "5. **Job Statement:** Stay informed about fashion news and events through a centralized, easy-to-consume platform.\n",
       "**Focus Market:** Core Growth\n",
       "**Reasoning:** Customers want to stay informed about fashion news and events, but may not have a centralized platform to consume this information. A digital magazine that offers a centralized, easy-to-consume platform can meet this unmet outcome expectation.\n",
       "\n",
       "6. **Job Statement:** Create and share personal fashion content with a community of like-minded individuals.\n",
       "**Focus Market:** Disruptive Growth\n",
       "**Reasoning:** Customers want to create and share personal fashion content, but may not have the platform or audience to do so. A digital magazine that allows customers to create and share content can disrupt the traditional fashion media landscape and make fashion more accessible and inclusive.\n",
       "\n",
       "7. **Job Statement:** Get personalized fashion recommendations based on my style and preferences.\n",
       "**Focus Market:** Related Jobs\n",
       "**Reasoning:** Customers want to get personalized fashion recommendations, but may not have the time or resources to research and find the right products. A digital magazine that offers personalized recommendations can help customers achieve this outcome expectation by providing tailored suggestions based on their style and preferences.\n",
       "\n",
       "8. **Job Statement:** Learn about sustainable and eco-friendly fashion practices through educational content.\n",
       "**Focus Market:** Core Growth\n",
       "**Reasoning:** Customers want to learn about sustainable and eco-friendly fashion practices, but may not have the resources or knowledge to make informed decisions. A digital magazine that offers educational content can meet this unmet outcome expectation and help customers make more sustainable choices.\n",
       "\n",
       "9. **Job Statement:** Get inspiration for fashion-related DIY projects and tutorials through step-by-step content.\n",
       "**Focus Market:** Core Growth\n",
       "**Reasoning:** Customers want to get inspiration for fashion-related DIY projects and tutorials, but may not have the skills or resources to create their own content. A digital magazine that offers step-by-step content can meet this unmet outcome expectation and help customers achieve their DIY goals.\n",
       "\n",
       "10. **Job Statement:** Stay connected with fashion communities and events through a social platform.\n",
       "**Focus Market:** Disruptive Growth\n",
       "**Reasoning:** Customers want to stay connected with fashion communities and events, but may not have a platform to do so. A digital magazine that offers a social platform can disrupt the traditional fashion media landscape and make fashion more accessible and inclusive.\n",
       "\n",
       "These jobs to be done highlight the various ways in which customers want to interact with fashion content, from exploring trends and styles to creating and sharing personal content. By understanding these jobs, a digital magazine can develop solutions that meet the unmet outcome expectations of its customers and stay ahead of the competition."
      ],
      "text/plain": [
       "<IPython.core.display.Markdown object>"
      ]
     },
     "metadata": {},
     "output_type": "display_data"
    }
   ],
   "source": [
    "display(Markdown(r2))"
   ]
  }
 ],
 "metadata": {
  "interpreter": {
   "hash": "c7d7b4a72a7ab1202c1aa1d2d4ccffc9579def15d15f416b3055c17297e196fd"
  },
  "kernelspec": {
   "display_name": "Python 3.12.3 64-bit (system)",
   "language": "python",
   "name": "python3"
  },
  "language_info": {
   "codemirror_mode": {
    "name": "ipython",
    "version": 3
   },
   "file_extension": ".py",
   "mimetype": "text/x-python",
   "name": "python",
   "nbconvert_exporter": "python",
   "pygments_lexer": "ipython3",
   "version": "3.12.3"
  },
  "orig_nbformat": 4
 },
 "nbformat": 4,
 "nbformat_minor": 2
}
